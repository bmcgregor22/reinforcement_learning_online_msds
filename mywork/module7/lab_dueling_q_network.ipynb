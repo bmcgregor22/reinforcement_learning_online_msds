{
  "cells": [
    {
      "cell_type": "markdown",
      "metadata": {
        "id": "view-in-github",
        "colab_type": "text"
      },
      "source": [
        "<a href=\"https://colab.research.google.com/github/bmcgregor22/reinforcement_learning_online_msds/blob/work/mywork/module7/lab_dueling_q_network.ipynb\" target=\"_parent\"><img src=\"https://colab.research.google.com/assets/colab-badge.svg\" alt=\"Open In Colab\"/></a>"
      ]
    },
    {
      "cell_type": "markdown",
      "id": "d2ba6549-8b15-4f95-9615-549dd5fa2f7c",
      "metadata": {
        "id": "d2ba6549-8b15-4f95-9615-549dd5fa2f7c"
      },
      "source": [
        "### Lab: Navigating the Lunar Lander with a Dueling Deep Q Network\n",
        "\n",
        "### University of Virginia\n",
        "### Reinforcement Learning\n",
        "#### Last updated: February 27, 2024\n",
        "\n",
        "---"
      ]
    },
    {
      "cell_type": "markdown",
      "source": [
        "## Bruce McGregor"
      ],
      "metadata": {
        "id": "P6nGunqP9GmX"
      },
      "id": "P6nGunqP9GmX"
    },
    {
      "cell_type": "markdown",
      "id": "2afeab41-bd5f-40e8-ad2f-e8999f13ed45",
      "metadata": {
        "id": "2afeab41-bd5f-40e8-ad2f-e8999f13ed45"
      },
      "source": [
        "#### Instructions:\n",
        "\n",
        "You will work with the `LunarLander-v2` environment from `gymnasium` in this lab.  \n",
        "\n",
        "An overview of the environment can be found [here](https://gymnasium.farama.org/).  \n",
        "If you're curious about the source code, see [here](https://github.com/Farama-Foundation/Gymnasium/blob/main/gymnasium/envs/box2d/lunar_lander.py).\n",
        "\n",
        "Your mission will be to implement a dueling deep Q -network using PyTorch.  \n",
        "You might run this on Colab.\n",
        "\n",
        "There are a few specific tasks outlined below for you to solve.\n",
        "\n",
        "The bigger tasks will be to:\n",
        "\n",
        "- Show that the algorithm works to train the agent in the environment\n",
        "- Run episodes and show the results\n",
        "\n",
        "**Submission**  \n",
        "As you will likely have several files including this notebook, you can zip all files and submit.\n",
        "\n",
        "---"
      ]
    },
    {
      "cell_type": "markdown",
      "id": "285f77b4-736e-4287-a570-2ecb5158e1b5",
      "metadata": {
        "id": "285f77b4-736e-4287-a570-2ecb5158e1b5"
      },
      "source": [
        "![lunar](https://github.com/bmcgregor22/reinforcement_learning_online_msds/blob/work/mywork/module7/lunar_lander1.png?raw=1)"
      ]
    },
    {
      "cell_type": "markdown",
      "id": "7c322b08-1720-43e0-a3b0-0788fc33b6a7",
      "metadata": {
        "id": "7c322b08-1720-43e0-a3b0-0788fc33b6a7"
      },
      "source": [
        "#### TOTAL POINTS: 12\n",
        "\n",
        "---"
      ]
    },
    {
      "cell_type": "markdown",
      "id": "aaec7e91-2f9e-4bae-8605-6a7f0d46e8a9",
      "metadata": {
        "id": "aaec7e91-2f9e-4bae-8605-6a7f0d46e8a9"
      },
      "source": [
        "**Hint:** Modules you may need to install include:"
      ]
    },
    {
      "cell_type": "markdown",
      "id": "15e46143-14c0-45da-8268-2a4c7295ca0c",
      "metadata": {
        "id": "15e46143-14c0-45da-8268-2a4c7295ca0c"
      },
      "source": [
        "swig  \n",
        "gym[box2d]  \n",
        "gymnasium"
      ]
    },
    {
      "cell_type": "markdown",
      "id": "53817399-20ed-42eb-ae9e-9b76369de8eb",
      "metadata": {
        "id": "53817399-20ed-42eb-ae9e-9b76369de8eb"
      },
      "source": [
        "#### 1) What is the penalty for crashing?  \n",
        "**(POINTS: 1)**\n"
      ]
    },
    {
      "cell_type": "markdown",
      "id": "0599cdf7-e5b8-4d62-8ac1-bd507f10084a",
      "metadata": {
        "id": "0599cdf7-e5b8-4d62-8ac1-bd507f10084a"
      },
      "source": [
        "The penalthy for crashing is negative 100 points."
      ]
    },
    {
      "cell_type": "markdown",
      "id": "7a304cd5-72e7-4f53-95d4-1cb9fcfb1d1f",
      "metadata": {
        "id": "7a304cd5-72e7-4f53-95d4-1cb9fcfb1d1f"
      },
      "source": [
        "#### 2) Set up the environment and run 2 steps by taking random actions.\n",
        "**(POINTS: 1)**"
      ]
    },
    {
      "cell_type": "code",
      "source": [
        "!apt-get -y install swig\n",
        "!pip install -U gymnasium[box2d] torch\n"
      ],
      "metadata": {
        "colab": {
          "base_uri": "https://localhost:8080/"
        },
        "id": "RifVDUK9W26i",
        "outputId": "8a8387de-ab72-4ad8-9d45-28e7f8c0d8c6"
      },
      "id": "RifVDUK9W26i",
      "execution_count": 1,
      "outputs": [
        {
          "output_type": "stream",
          "name": "stdout",
          "text": [
            "Reading package lists... Done\n",
            "Building dependency tree... Done\n",
            "Reading state information... Done\n",
            "The following additional packages will be installed:\n",
            "  swig4.0\n",
            "Suggested packages:\n",
            "  swig-doc swig-examples swig4.0-examples swig4.0-doc\n",
            "The following NEW packages will be installed:\n",
            "  swig swig4.0\n",
            "0 upgraded, 2 newly installed, 0 to remove and 41 not upgraded.\n",
            "Need to get 1,116 kB of archives.\n",
            "After this operation, 5,542 kB of additional disk space will be used.\n",
            "Get:1 http://archive.ubuntu.com/ubuntu jammy/universe amd64 swig4.0 amd64 4.0.2-1ubuntu1 [1,110 kB]\n",
            "Get:2 http://archive.ubuntu.com/ubuntu jammy/universe amd64 swig all 4.0.2-1ubuntu1 [5,632 B]\n",
            "Fetched 1,116 kB in 2s (559 kB/s)\n",
            "Selecting previously unselected package swig4.0.\n",
            "(Reading database ... 125080 files and directories currently installed.)\n",
            "Preparing to unpack .../swig4.0_4.0.2-1ubuntu1_amd64.deb ...\n",
            "Unpacking swig4.0 (4.0.2-1ubuntu1) ...\n",
            "Selecting previously unselected package swig.\n",
            "Preparing to unpack .../swig_4.0.2-1ubuntu1_all.deb ...\n",
            "Unpacking swig (4.0.2-1ubuntu1) ...\n",
            "Setting up swig4.0 (4.0.2-1ubuntu1) ...\n",
            "Setting up swig (4.0.2-1ubuntu1) ...\n",
            "Processing triggers for man-db (2.10.2-1) ...\n",
            "Requirement already satisfied: torch in /usr/local/lib/python3.12/dist-packages (2.8.0+cu126)\n",
            "Collecting torch\n",
            "  Downloading torch-2.9.0-cp312-cp312-manylinux_2_28_x86_64.whl.metadata (30 kB)\n",
            "Requirement already satisfied: gymnasium[box2d] in /usr/local/lib/python3.12/dist-packages (1.2.1)\n",
            "Requirement already satisfied: numpy>=1.21.0 in /usr/local/lib/python3.12/dist-packages (from gymnasium[box2d]) (2.0.2)\n",
            "Requirement already satisfied: cloudpickle>=1.2.0 in /usr/local/lib/python3.12/dist-packages (from gymnasium[box2d]) (3.1.1)\n",
            "Requirement already satisfied: typing-extensions>=4.3.0 in /usr/local/lib/python3.12/dist-packages (from gymnasium[box2d]) (4.15.0)\n",
            "Requirement already satisfied: farama-notifications>=0.0.1 in /usr/local/lib/python3.12/dist-packages (from gymnasium[box2d]) (0.0.4)\n",
            "Collecting box2d-py==2.3.5 (from gymnasium[box2d])\n",
            "  Downloading box2d-py-2.3.5.tar.gz (374 kB)\n",
            "\u001b[2K     \u001b[90m━━━━━━━━━━━━━━━━━━━━━━━━━━━━━━━━━━━━━━━\u001b[0m \u001b[32m374.4/374.4 kB\u001b[0m \u001b[31m6.3 MB/s\u001b[0m eta \u001b[36m0:00:00\u001b[0m\n",
            "\u001b[?25h  Preparing metadata (setup.py) ... \u001b[?25l\u001b[?25hdone\n",
            "Requirement already satisfied: pygame>=2.1.3 in /usr/local/lib/python3.12/dist-packages (from gymnasium[box2d]) (2.6.1)\n",
            "Collecting swig==4.* (from gymnasium[box2d])\n",
            "  Downloading swig-4.4.0-py3-none-manylinux_2_12_x86_64.manylinux2010_x86_64.whl.metadata (3.5 kB)\n",
            "Requirement already satisfied: filelock in /usr/local/lib/python3.12/dist-packages (from torch) (3.20.0)\n",
            "Requirement already satisfied: setuptools in /usr/local/lib/python3.12/dist-packages (from torch) (75.2.0)\n",
            "Requirement already satisfied: sympy>=1.13.3 in /usr/local/lib/python3.12/dist-packages (from torch) (1.13.3)\n",
            "Requirement already satisfied: networkx>=2.5.1 in /usr/local/lib/python3.12/dist-packages (from torch) (3.5)\n",
            "Requirement already satisfied: jinja2 in /usr/local/lib/python3.12/dist-packages (from torch) (3.1.6)\n",
            "Requirement already satisfied: fsspec>=0.8.5 in /usr/local/lib/python3.12/dist-packages (from torch) (2025.3.0)\n",
            "Collecting nvidia-cuda-nvrtc-cu12==12.8.93 (from torch)\n",
            "  Downloading nvidia_cuda_nvrtc_cu12-12.8.93-py3-none-manylinux2010_x86_64.manylinux_2_12_x86_64.whl.metadata (1.7 kB)\n",
            "Collecting nvidia-cuda-runtime-cu12==12.8.90 (from torch)\n",
            "  Downloading nvidia_cuda_runtime_cu12-12.8.90-py3-none-manylinux2014_x86_64.manylinux_2_17_x86_64.whl.metadata (1.7 kB)\n",
            "Collecting nvidia-cuda-cupti-cu12==12.8.90 (from torch)\n",
            "  Downloading nvidia_cuda_cupti_cu12-12.8.90-py3-none-manylinux2014_x86_64.manylinux_2_17_x86_64.whl.metadata (1.7 kB)\n",
            "Requirement already satisfied: nvidia-cudnn-cu12==9.10.2.21 in /usr/local/lib/python3.12/dist-packages (from torch) (9.10.2.21)\n",
            "Collecting nvidia-cublas-cu12==12.8.4.1 (from torch)\n",
            "  Downloading nvidia_cublas_cu12-12.8.4.1-py3-none-manylinux_2_27_x86_64.whl.metadata (1.7 kB)\n",
            "Collecting nvidia-cufft-cu12==11.3.3.83 (from torch)\n",
            "  Downloading nvidia_cufft_cu12-11.3.3.83-py3-none-manylinux2014_x86_64.manylinux_2_17_x86_64.whl.metadata (1.7 kB)\n",
            "Collecting nvidia-curand-cu12==10.3.9.90 (from torch)\n",
            "  Downloading nvidia_curand_cu12-10.3.9.90-py3-none-manylinux_2_27_x86_64.whl.metadata (1.7 kB)\n",
            "Collecting nvidia-cusolver-cu12==11.7.3.90 (from torch)\n",
            "  Downloading nvidia_cusolver_cu12-11.7.3.90-py3-none-manylinux_2_27_x86_64.whl.metadata (1.8 kB)\n",
            "Collecting nvidia-cusparse-cu12==12.5.8.93 (from torch)\n",
            "  Downloading nvidia_cusparse_cu12-12.5.8.93-py3-none-manylinux2014_x86_64.manylinux_2_17_x86_64.whl.metadata (1.8 kB)\n",
            "Requirement already satisfied: nvidia-cusparselt-cu12==0.7.1 in /usr/local/lib/python3.12/dist-packages (from torch) (0.7.1)\n",
            "Collecting nvidia-nccl-cu12==2.27.5 (from torch)\n",
            "  Downloading nvidia_nccl_cu12-2.27.5-py3-none-manylinux2014_x86_64.manylinux_2_17_x86_64.whl.metadata (2.0 kB)\n",
            "Collecting nvidia-nvshmem-cu12==3.3.20 (from torch)\n",
            "  Downloading nvidia_nvshmem_cu12-3.3.20-py3-none-manylinux2014_x86_64.manylinux_2_17_x86_64.whl.metadata (2.1 kB)\n",
            "Collecting nvidia-nvtx-cu12==12.8.90 (from torch)\n",
            "  Downloading nvidia_nvtx_cu12-12.8.90-py3-none-manylinux2014_x86_64.manylinux_2_17_x86_64.whl.metadata (1.8 kB)\n",
            "Collecting nvidia-nvjitlink-cu12==12.8.93 (from torch)\n",
            "  Downloading nvidia_nvjitlink_cu12-12.8.93-py3-none-manylinux2010_x86_64.manylinux_2_12_x86_64.whl.metadata (1.7 kB)\n",
            "Collecting nvidia-cufile-cu12==1.13.1.3 (from torch)\n",
            "  Downloading nvidia_cufile_cu12-1.13.1.3-py3-none-manylinux2014_x86_64.manylinux_2_17_x86_64.whl.metadata (1.7 kB)\n",
            "Collecting triton==3.5.0 (from torch)\n",
            "  Downloading triton-3.5.0-cp312-cp312-manylinux_2_27_x86_64.manylinux_2_28_x86_64.whl.metadata (1.7 kB)\n",
            "Requirement already satisfied: mpmath<1.4,>=1.1.0 in /usr/local/lib/python3.12/dist-packages (from sympy>=1.13.3->torch) (1.3.0)\n",
            "Requirement already satisfied: MarkupSafe>=2.0 in /usr/local/lib/python3.12/dist-packages (from jinja2->torch) (3.0.3)\n",
            "Downloading swig-4.4.0-py3-none-manylinux_2_12_x86_64.manylinux2010_x86_64.whl (1.9 MB)\n",
            "\u001b[2K   \u001b[90m━━━━━━━━━━━━━━━━━━━━━━━━━━━━━━━━━━━━━━━━\u001b[0m \u001b[32m1.9/1.9 MB\u001b[0m \u001b[31m37.5 MB/s\u001b[0m eta \u001b[36m0:00:00\u001b[0m\n",
            "\u001b[?25hDownloading torch-2.9.0-cp312-cp312-manylinux_2_28_x86_64.whl (899.7 MB)\n",
            "\u001b[2K   \u001b[90m━━━━━━━━━━━━━━━━━━━━━━━━━━━━━━━━━━━━━━━━\u001b[0m \u001b[32m899.7/899.7 MB\u001b[0m \u001b[31m1.8 MB/s\u001b[0m eta \u001b[36m0:00:00\u001b[0m\n",
            "\u001b[?25hDownloading nvidia_cublas_cu12-12.8.4.1-py3-none-manylinux_2_27_x86_64.whl (594.3 MB)\n",
            "\u001b[2K   \u001b[90m━━━━━━━━━━━━━━━━━━━━━━━━━━━━━━━━━━━━━━━━\u001b[0m \u001b[32m594.3/594.3 MB\u001b[0m \u001b[31m3.0 MB/s\u001b[0m eta \u001b[36m0:00:00\u001b[0m\n",
            "\u001b[?25hDownloading nvidia_cuda_cupti_cu12-12.8.90-py3-none-manylinux2014_x86_64.manylinux_2_17_x86_64.whl (10.2 MB)\n",
            "\u001b[2K   \u001b[90m━━━━━━━━━━━━━━━━━━━━━━━━━━━━━━━━━━━━━━━━\u001b[0m \u001b[32m10.2/10.2 MB\u001b[0m \u001b[31m95.5 MB/s\u001b[0m eta \u001b[36m0:00:00\u001b[0m\n",
            "\u001b[?25hDownloading nvidia_cuda_nvrtc_cu12-12.8.93-py3-none-manylinux2010_x86_64.manylinux_2_12_x86_64.whl (88.0 MB)\n",
            "\u001b[2K   \u001b[90m━━━━━━━━━━━━━━━━━━━━━━━━━━━━━━━━━━━━━━━━\u001b[0m \u001b[32m88.0/88.0 MB\u001b[0m \u001b[31m9.5 MB/s\u001b[0m eta \u001b[36m0:00:00\u001b[0m\n",
            "\u001b[?25hDownloading nvidia_cuda_runtime_cu12-12.8.90-py3-none-manylinux2014_x86_64.manylinux_2_17_x86_64.whl (954 kB)\n",
            "\u001b[2K   \u001b[90m━━━━━━━━━━━━━━━━━━━━━━━━━━━━━━━━━━━━━━━━\u001b[0m \u001b[32m954.8/954.8 kB\u001b[0m \u001b[31m58.0 MB/s\u001b[0m eta \u001b[36m0:00:00\u001b[0m\n",
            "\u001b[?25hDownloading nvidia_cufft_cu12-11.3.3.83-py3-none-manylinux2014_x86_64.manylinux_2_17_x86_64.whl (193.1 MB)\n",
            "\u001b[2K   \u001b[90m━━━━━━━━━━━━━━━━━━━━━━━━━━━━━━━━━━━━━━━━\u001b[0m \u001b[32m193.1/193.1 MB\u001b[0m \u001b[31m5.6 MB/s\u001b[0m eta \u001b[36m0:00:00\u001b[0m\n",
            "\u001b[?25hDownloading nvidia_cufile_cu12-1.13.1.3-py3-none-manylinux2014_x86_64.manylinux_2_17_x86_64.whl (1.2 MB)\n",
            "\u001b[2K   \u001b[90m━━━━━━━━━━━━━━━━━━━━━━━━━━━━━━━━━━━━━━━━\u001b[0m \u001b[32m1.2/1.2 MB\u001b[0m \u001b[31m58.7 MB/s\u001b[0m eta \u001b[36m0:00:00\u001b[0m\n",
            "\u001b[?25hDownloading nvidia_curand_cu12-10.3.9.90-py3-none-manylinux_2_27_x86_64.whl (63.6 MB)\n",
            "\u001b[2K   \u001b[90m━━━━━━━━━━━━━━━━━━━━━━━━━━━━━━━━━━━━━━━━\u001b[0m \u001b[32m63.6/63.6 MB\u001b[0m \u001b[31m12.6 MB/s\u001b[0m eta \u001b[36m0:00:00\u001b[0m\n",
            "\u001b[?25hDownloading nvidia_cusolver_cu12-11.7.3.90-py3-none-manylinux_2_27_x86_64.whl (267.5 MB)\n",
            "\u001b[2K   \u001b[90m━━━━━━━━━━━━━━━━━━━━━━━━━━━━━━━━━━━━━━━━\u001b[0m \u001b[32m267.5/267.5 MB\u001b[0m \u001b[31m5.7 MB/s\u001b[0m eta \u001b[36m0:00:00\u001b[0m\n",
            "\u001b[?25hDownloading nvidia_cusparse_cu12-12.5.8.93-py3-none-manylinux2014_x86_64.manylinux_2_17_x86_64.whl (288.2 MB)\n",
            "\u001b[2K   \u001b[90m━━━━━━━━━━━━━━━━━━━━━━━━━━━━━━━━━━━━━━━━\u001b[0m \u001b[32m288.2/288.2 MB\u001b[0m \u001b[31m6.0 MB/s\u001b[0m eta \u001b[36m0:00:00\u001b[0m\n",
            "\u001b[?25hDownloading nvidia_nccl_cu12-2.27.5-py3-none-manylinux2014_x86_64.manylinux_2_17_x86_64.whl (322.3 MB)\n",
            "\u001b[2K   \u001b[90m━━━━━━━━━━━━━━━━━━━━━━━━━━━━━━━━━━━━━━━━\u001b[0m \u001b[32m322.3/322.3 MB\u001b[0m \u001b[31m4.1 MB/s\u001b[0m eta \u001b[36m0:00:00\u001b[0m\n",
            "\u001b[?25hDownloading nvidia_nvjitlink_cu12-12.8.93-py3-none-manylinux2010_x86_64.manylinux_2_12_x86_64.whl (39.3 MB)\n",
            "\u001b[2K   \u001b[90m━━━━━━━━━━━━━━━━━━━━━━━━━━━━━━━━━━━━━━━━\u001b[0m \u001b[32m39.3/39.3 MB\u001b[0m \u001b[31m20.9 MB/s\u001b[0m eta \u001b[36m0:00:00\u001b[0m\n",
            "\u001b[?25hDownloading nvidia_nvshmem_cu12-3.3.20-py3-none-manylinux2014_x86_64.manylinux_2_17_x86_64.whl (124.7 MB)\n",
            "\u001b[2K   \u001b[90m━━━━━━━━━━━━━━━━━━━━━━━━━━━━━━━━━━━━━━━━\u001b[0m \u001b[32m124.7/124.7 MB\u001b[0m \u001b[31m7.2 MB/s\u001b[0m eta \u001b[36m0:00:00\u001b[0m\n",
            "\u001b[?25hDownloading nvidia_nvtx_cu12-12.8.90-py3-none-manylinux2014_x86_64.manylinux_2_17_x86_64.whl (89 kB)\n",
            "\u001b[2K   \u001b[90m━━━━━━━━━━━━━━━━━━━━━━━━━━━━━━━━━━━━━━━━\u001b[0m \u001b[32m90.0/90.0 kB\u001b[0m \u001b[31m4.2 MB/s\u001b[0m eta \u001b[36m0:00:00\u001b[0m\n",
            "\u001b[?25hDownloading triton-3.5.0-cp312-cp312-manylinux_2_27_x86_64.manylinux_2_28_x86_64.whl (170.5 MB)\n",
            "\u001b[2K   \u001b[90m━━━━━━━━━━━━━━━━━━━━━━━━━━━━━━━━━━━━━━━━\u001b[0m \u001b[32m170.5/170.5 MB\u001b[0m \u001b[31m6.0 MB/s\u001b[0m eta \u001b[36m0:00:00\u001b[0m\n",
            "\u001b[?25hBuilding wheels for collected packages: box2d-py\n",
            "  Building wheel for box2d-py (setup.py) ... \u001b[?25l\u001b[?25hdone\n",
            "  Created wheel for box2d-py: filename=box2d_py-2.3.5-cp312-cp312-linux_x86_64.whl size=2381960 sha256=35f789b7b570d4182bee078a3a5294c5589c6331538724fd413b8accb335ba3b\n",
            "  Stored in directory: /root/.cache/pip/wheels/2a/e9/60/774da0bcd07f7dc7761a8590fa2d065e4069568e78dcdc3318\n",
            "Successfully built box2d-py\n",
            "Installing collected packages: swig, box2d-py, triton, nvidia-nvtx-cu12, nvidia-nvshmem-cu12, nvidia-nvjitlink-cu12, nvidia-nccl-cu12, nvidia-curand-cu12, nvidia-cufile-cu12, nvidia-cuda-runtime-cu12, nvidia-cuda-nvrtc-cu12, nvidia-cuda-cupti-cu12, nvidia-cublas-cu12, nvidia-cusparse-cu12, nvidia-cufft-cu12, nvidia-cusolver-cu12, torch\n",
            "  Attempting uninstall: triton\n",
            "    Found existing installation: triton 3.4.0\n",
            "    Uninstalling triton-3.4.0:\n",
            "      Successfully uninstalled triton-3.4.0\n",
            "  Attempting uninstall: nvidia-nvtx-cu12\n",
            "    Found existing installation: nvidia-nvtx-cu12 12.6.77\n",
            "    Uninstalling nvidia-nvtx-cu12-12.6.77:\n",
            "      Successfully uninstalled nvidia-nvtx-cu12-12.6.77\n",
            "  Attempting uninstall: nvidia-nvshmem-cu12\n",
            "    Found existing installation: nvidia-nvshmem-cu12 3.4.5\n",
            "    Uninstalling nvidia-nvshmem-cu12-3.4.5:\n",
            "      Successfully uninstalled nvidia-nvshmem-cu12-3.4.5\n",
            "  Attempting uninstall: nvidia-nvjitlink-cu12\n",
            "    Found existing installation: nvidia-nvjitlink-cu12 12.6.85\n",
            "    Uninstalling nvidia-nvjitlink-cu12-12.6.85:\n",
            "      Successfully uninstalled nvidia-nvjitlink-cu12-12.6.85\n",
            "  Attempting uninstall: nvidia-nccl-cu12\n",
            "    Found existing installation: nvidia-nccl-cu12 2.27.3\n",
            "    Uninstalling nvidia-nccl-cu12-2.27.3:\n",
            "      Successfully uninstalled nvidia-nccl-cu12-2.27.3\n",
            "  Attempting uninstall: nvidia-curand-cu12\n",
            "    Found existing installation: nvidia-curand-cu12 10.3.7.77\n",
            "    Uninstalling nvidia-curand-cu12-10.3.7.77:\n",
            "      Successfully uninstalled nvidia-curand-cu12-10.3.7.77\n",
            "  Attempting uninstall: nvidia-cufile-cu12\n",
            "    Found existing installation: nvidia-cufile-cu12 1.11.1.6\n",
            "    Uninstalling nvidia-cufile-cu12-1.11.1.6:\n",
            "      Successfully uninstalled nvidia-cufile-cu12-1.11.1.6\n",
            "  Attempting uninstall: nvidia-cuda-runtime-cu12\n",
            "    Found existing installation: nvidia-cuda-runtime-cu12 12.6.77\n",
            "    Uninstalling nvidia-cuda-runtime-cu12-12.6.77:\n",
            "      Successfully uninstalled nvidia-cuda-runtime-cu12-12.6.77\n",
            "  Attempting uninstall: nvidia-cuda-nvrtc-cu12\n",
            "    Found existing installation: nvidia-cuda-nvrtc-cu12 12.6.77\n",
            "    Uninstalling nvidia-cuda-nvrtc-cu12-12.6.77:\n",
            "      Successfully uninstalled nvidia-cuda-nvrtc-cu12-12.6.77\n",
            "  Attempting uninstall: nvidia-cuda-cupti-cu12\n",
            "    Found existing installation: nvidia-cuda-cupti-cu12 12.6.80\n",
            "    Uninstalling nvidia-cuda-cupti-cu12-12.6.80:\n",
            "      Successfully uninstalled nvidia-cuda-cupti-cu12-12.6.80\n",
            "  Attempting uninstall: nvidia-cublas-cu12\n",
            "    Found existing installation: nvidia-cublas-cu12 12.6.4.1\n",
            "    Uninstalling nvidia-cublas-cu12-12.6.4.1:\n",
            "      Successfully uninstalled nvidia-cublas-cu12-12.6.4.1\n",
            "  Attempting uninstall: nvidia-cusparse-cu12\n",
            "    Found existing installation: nvidia-cusparse-cu12 12.5.4.2\n",
            "    Uninstalling nvidia-cusparse-cu12-12.5.4.2:\n",
            "      Successfully uninstalled nvidia-cusparse-cu12-12.5.4.2\n",
            "  Attempting uninstall: nvidia-cufft-cu12\n",
            "    Found existing installation: nvidia-cufft-cu12 11.3.0.4\n",
            "    Uninstalling nvidia-cufft-cu12-11.3.0.4:\n",
            "      Successfully uninstalled nvidia-cufft-cu12-11.3.0.4\n",
            "  Attempting uninstall: nvidia-cusolver-cu12\n",
            "    Found existing installation: nvidia-cusolver-cu12 11.7.1.2\n",
            "    Uninstalling nvidia-cusolver-cu12-11.7.1.2:\n",
            "      Successfully uninstalled nvidia-cusolver-cu12-11.7.1.2\n",
            "  Attempting uninstall: torch\n",
            "    Found existing installation: torch 2.8.0+cu126\n",
            "    Uninstalling torch-2.8.0+cu126:\n",
            "      Successfully uninstalled torch-2.8.0+cu126\n",
            "\u001b[31mERROR: pip's dependency resolver does not currently take into account all the packages that are installed. This behaviour is the source of the following dependency conflicts.\n",
            "torchvision 0.23.0+cu126 requires torch==2.8.0, but you have torch 2.9.0 which is incompatible.\n",
            "torchaudio 2.8.0+cu126 requires torch==2.8.0, but you have torch 2.9.0 which is incompatible.\u001b[0m\u001b[31m\n",
            "\u001b[0mSuccessfully installed box2d-py-2.3.5 nvidia-cublas-cu12-12.8.4.1 nvidia-cuda-cupti-cu12-12.8.90 nvidia-cuda-nvrtc-cu12-12.8.93 nvidia-cuda-runtime-cu12-12.8.90 nvidia-cufft-cu12-11.3.3.83 nvidia-cufile-cu12-1.13.1.3 nvidia-curand-cu12-10.3.9.90 nvidia-cusolver-cu12-11.7.3.90 nvidia-cusparse-cu12-12.5.8.93 nvidia-nccl-cu12-2.27.5 nvidia-nvjitlink-cu12-12.8.93 nvidia-nvshmem-cu12-3.3.20 nvidia-nvtx-cu12-12.8.90 swig-4.4.0 torch-2.9.0 triton-3.5.0\n"
          ]
        }
      ]
    },
    {
      "cell_type": "code",
      "source": [
        "#This is a test script to make sure everything loaded correctly.\n",
        "\n",
        "import gymnasium as gym\n",
        "import numpy as np\n",
        "\n",
        "env = gym.make(\"LunarLander-v3\")\n",
        "obs, info = env.reset(seed=42)\n",
        "\n",
        "\n",
        "action = env.action_space.sample() #take a random action\n",
        "next_obs, reward, terminated, truncated, info = env.step(action)\n",
        "\n",
        "print(\"\\nStep 1:\")\n",
        "print(\"  Action taken:\", action)\n",
        "print(\"  Reward:\", reward)\n",
        "print(\"  Terminated:\", terminated, \"Truncated:\", truncated)\n",
        "print(\"  Next obs sample:\", np.round(next_obs, 3))\n",
        "\n",
        "action = env.action_space.sample()  # another random action\n",
        "next_obs, reward, terminated, truncated, info = env.step(action)\n",
        "print(\"\\nStep 2:\")\n",
        "print(\"  Action taken:\", action)\n",
        "print(\"  Reward:\", reward)\n",
        "print(\"  Terminated:\", terminated, \"Truncated:\", truncated)\n",
        "print(\"  Next obs sample:\", np.round(next_obs, 3))\n",
        "\n",
        "\n",
        "env.close()"
      ],
      "metadata": {
        "colab": {
          "base_uri": "https://localhost:8080/"
        },
        "id": "KZ8kPBdkaJe0",
        "outputId": "cee1267b-a649-4363-ac73-dfeba23743ae"
      },
      "id": "KZ8kPBdkaJe0",
      "execution_count": 2,
      "outputs": [
        {
          "output_type": "stream",
          "name": "stdout",
          "text": [
            "\n",
            "Step 1:\n",
            "  Action taken: 1\n",
            "  Reward: 2.0804712989958616\n",
            "  Terminated: False Truncated: False\n",
            "  Next obs sample: [ 0.004  1.425  0.22   0.295 -0.003 -0.004  0.     0.   ]\n",
            "\n",
            "Step 2:\n",
            "  Action taken: 3\n",
            "  Reward: 0.529247597147845\n",
            "  Terminated: False Truncated: False\n",
            "  Next obs sample: [ 0.007  1.431  0.231  0.269 -0.005 -0.046  0.     0.   ]\n"
          ]
        }
      ]
    },
    {
      "cell_type": "markdown",
      "id": "34e536f8-9cc1-4295-8283-3d9528ffb8f1",
      "metadata": {
        "id": "34e536f8-9cc1-4295-8283-3d9528ffb8f1"
      },
      "source": []
    },
    {
      "cell_type": "markdown",
      "id": "e6704924-c33d-4135-bd79-7ffef75e7aa9",
      "metadata": {
        "id": "e6704924-c33d-4135-bd79-7ffef75e7aa9"
      },
      "source": [
        "#### 3) Briefly discuss your approach to solving the problem  \n",
        "**(POINTS: 2)**"
      ]
    },
    {
      "cell_type": "markdown",
      "source": [
        "My approach to solving this problem is to create modular programs for the agent, the network, the replay buffer. I will leverage the Pytorch nn.module class for neural networks to create the network. I will create a separate script for training, and a separate file to run the application. I will set the hyperparameters up in a config file to make the code more readable. I will design the network using PyTorch best practices for RL, using two fully connected layers with ReLU activations for nonlinear relationships. The network will have three parts: a shared feature extractor, a value stream, and an advantage stream. During training, I will use two  network instantiations to serve as the online network and the target network, which will be periodically updated during training, through either a hard or soft update.\n",
        "\n",
        "I used AI to help with code generation. I used come Chat GPT to suggest a coding strategy, and used Gemini in Colab to revise, edit, dbug, and add comments.  I walked through all code with Gemini to ensure I understood the functions, especially some of Pytorch conversions, which were a bit tricky.\n",
        "\n",
        "I found using AI code walkthroughs to be very informative and helpful in grasping these algorithms and how to implement them."
      ],
      "metadata": {
        "id": "2aHVSSc1oy-h"
      },
      "id": "2aHVSSc1oy-h"
    },
    {
      "cell_type": "markdown",
      "source": [],
      "metadata": {
        "id": "UeWSdIFHsWnr"
      },
      "id": "UeWSdIFHsWnr"
    },
    {
      "cell_type": "code",
      "metadata": {
        "colab": {
          "base_uri": "https://localhost:8080/"
        },
        "id": "3039df88-158c-455d-3d9528ffb8f1",
        "outputId": "3cb7c1f5-be5d-4e24-e9a8-a6e9dd2accff"
      },
      "source": [
        "%%writefile config.py\n",
        "\n",
        "from dataclasses import dataclass\n",
        "\n",
        "SEED = 42 # Random seed for reproducibility\n",
        "\n",
        "@dataclass\n",
        "class Config:\n",
        "    # Environment Parameters\n",
        "    env_id: str = \"LunarLander-v3\" # Environment ID\n",
        "\n",
        "    # Training Parameters\n",
        "    total_steps: int = 200_000 # Total number of steps to train for\n",
        "    start_learning: int = 10_000 # Number of steps before training starts\n",
        "    buffer_size: int = 200_000 # Size of the replay buffer\n",
        "    batch_size: int = 128 # Batch size for training\n",
        "    gamma: float = 0.99 # Discount factor\n",
        "    lr: float = 5e-4 # Learning rate for the optimizer\n",
        "    train_freq: int = 1 # Training frequency (train every N steps)\n",
        "    target_update_freq: int = 1_000  # Frequency to update the target network (hard copy)\n",
        "    tau: float = 0.005                 # Interpolation factor for soft target updates (1.0 for hard copy)\n",
        "    grad_clip: float = 10.0 # Gradient clipping value\n",
        "    reward_clip: float | None = 1.0  # Clip rewards to [-1, 1] if not None\n",
        "\n",
        "    # Exploration Parameters\n",
        "    eps_start: float = 1.0 # Starting value of epsilon for epsilon-greedy exploration\n",
        "    eps_end: float = 0.05 # Ending value of epsilon for epsilon-greedy exploration\n",
        "    eps_decay_steps: int = 200_000 # Number of steps over which epsilon decays"
      ],
      "id": "3039df88-158c-455d-3d9528ffb8f1",
      "execution_count": 17,
      "outputs": [
        {
          "output_type": "stream",
          "name": "stdout",
          "text": [
            "Overwriting config.py\n"
          ]
        }
      ]
    },
    {
      "cell_type": "markdown",
      "id": "894d315f-ed95-4b9a-b6f5-53e1305d272a",
      "metadata": {
        "id": "894d315f-ed95-4b9a-b6f5-53e1305d272a"
      },
      "source": [
        "#### 4) Create supporting code files (`.py` format) to create the agent, train, and run episodes\n",
        "**(POINTS: 6)**\n",
        "\n",
        "Your code should include:\n",
        "\n",
        "- **(POINTS: 1)** A class for the dueling DQN agent\n",
        "- **(POINTS: 1)** An architecture with separate Value and Advantage streams\n",
        "- **(POINTS: 1)** A method called `forward()` for the forward pass of the algorithm\n",
        "- **(POINTS: 1)** A replay buffer\n",
        "- **(POINTS: 1)** A training function\n",
        "- **(POINTS: 1)** A function to run episodes"
      ]
    },
    {
      "cell_type": "code",
      "source": [
        "%%writefile network.py\n",
        "\n",
        "import torch\n",
        "import torch.nn as nn\n",
        "from typing import Tuple\n",
        "\n",
        "class DuelingQNetwork(nn.Module): ##inherits from torch.nn.Module\n",
        "    \"\"\"\n",
        "    Dueling Deep Q-Network (Dueling DQN) architecture.\n",
        "\n",
        "    This network implements the dueling architecture by splitting the network\n",
        "    into a shared feature extractor, a value stream (V), and an advantage\n",
        "    stream (A). The Q-values are computed by combining V and A.\n",
        "    \"\"\"\n",
        "    def __init__(self, state_dim: int, n_actions: int, hidden: Tuple[int, int] = (256, 256)):\n",
        "        \"\"\"\n",
        "        Initializes the DuelingQNetwork.\n",
        "\n",
        "        Args:\n",
        "            state_dim: The dimension of the input state space.\n",
        "            n_actions: The number of possible actions in the environment.\n",
        "            hidden: A tuple specifying the number of units in the hidden layers\n",
        "                    of the shared feature extractor.\n",
        "        \"\"\"\n",
        "        super().__init__() #calls the parent class init to set up nn\n",
        "\n",
        "        # Shared feature extractor\n",
        "        self.feature = nn.Sequential(\n",
        "            nn.Linear(state_dim, hidden[0]),\n",
        "            nn.ReLU(),\n",
        "            nn.Linear(hidden[0], hidden[1]),\n",
        "            nn.ReLU(),\n",
        "        )\n",
        "\n",
        "        # Value stream (estimates V(s))\n",
        "        self.value = nn.Sequential(\n",
        "            nn.Linear(hidden[1], 128),\n",
        "            nn.ReLU(),\n",
        "            nn.Linear(128, 1), # Output a single value for V(s)\n",
        "        )\n",
        "\n",
        "        # Advantage stream (estimates A(s, a))\n",
        "        self.advantage = nn.Sequential(\n",
        "            nn.Linear(hidden[1], 128),\n",
        "            nn.ReLU(),\n",
        "            nn.Linear(128, n_actions), # Output a value for each action\n",
        "        )\n",
        "\n",
        "    def forward(self, x):\n",
        "        \"\"\"\n",
        "        Defines the forward pass of the network.\n",
        "\n",
        "        Args:\n",
        "            x: The input tensor representing a batch of states.\n",
        "\n",
        "        Returns:\n",
        "            A tensor of Q-values for each action in the input states.\n",
        "        \"\"\"\n",
        "        # Pass input through the shared feature extractor\n",
        "        z = self.feature(x)\n",
        "\n",
        "        # Get the state value from the value stream\n",
        "        v = self.value(z)                        # [B, 1]\n",
        "\n",
        "        # Get the advantage for each action from the advantage stream\n",
        "        a = self.advantage(z)                    # [B, A]\n",
        "\n",
        "        # Center the advantages for identifiability\n",
        "        # Subtracting the mean of advantages doesn't change the relative order\n",
        "        # of actions but helps in separating the roles of V and A.\n",
        "        a = a - a.mean(dim=1, keepdim=True)      # center A for identifiability\n",
        "\n",
        "        # Combine value and advantage to get Q-values\n",
        "        # Q(s, a) = V(s) + A(s, a)\n",
        "        return v + a                              # [B, A]"
      ],
      "metadata": {
        "colab": {
          "base_uri": "https://localhost:8080/"
        },
        "id": "UVJqQJSOsdnI",
        "outputId": "e5379854-afb6-4412-b8b9-5529198779d3"
      },
      "id": "UVJqQJSOsdnI",
      "execution_count": 4,
      "outputs": [
        {
          "output_type": "stream",
          "name": "stdout",
          "text": [
            "Writing network.py\n"
          ]
        }
      ]
    },
    {
      "cell_type": "code",
      "source": [
        "%%writefile replay_buffer.py\n",
        "\n",
        "from collections import deque, namedtuple\n",
        "import random\n",
        "import numpy as np\n",
        "import torch\n",
        "\n",
        "# Define a namedtuple to represent a single transition in the environment\n",
        "# A transition includes the state, the action taken, the reward received,\n",
        "# the next state, and whether the episode ended (done flag).\n",
        "Transition = namedtuple('Transition', ('state', 'action', 'reward', 'next_state', 'done'))\n",
        "\n",
        "class ReplayBuffer:\n",
        "  \"\"\"\n",
        "  A simple replay buffer to store and sample experiences for training.\n",
        "  It uses a deque (double-ended queue) with a fixed maximum capacity.\n",
        "  \"\"\"\n",
        "  def __init__(self, capacity: int, seed: int =42):\n",
        "    '''\n",
        "    Initializes the ReplayBuffer.\n",
        "\n",
        "    Args:\n",
        "        capacity: The maximum number of transitions to store in the buffer.\n",
        "        seed: A random seed for reproducibility.\n",
        "    '''\n",
        "    # Create a deque with a maximum length. When the deque is full,\n",
        "    # adding new elements automatically removes elements from the opposite end (FIFO).\n",
        "    self.buffer = deque(maxlen=capacity)\n",
        "    # Initialize a random number generator for sampling\n",
        "    self.rng = random.Random(seed)\n",
        "\n",
        "  def __len__(self):\n",
        "    \"\"\"Returns the current number of transitions stored in the buffer.\"\"\"\n",
        "    return len(self.buffer)\n",
        "\n",
        "  def add(self, state, action, reward, next_state, done):\n",
        "    \"\"\"\n",
        "    Adds a new transition to the replay buffer.\n",
        "\n",
        "    Args:\n",
        "        state: The current state observation.\n",
        "        action: The action taken in the state.\n",
        "        reward: The reward received after taking the action.\n",
        "        next_state: The observation of the state after taking the action.\n",
        "        done: A boolean flag indicating if the episode terminated or was truncated.\n",
        "    \"\"\"\n",
        "    # Append the new transition (as a Transition namedtuple) to the right side of the deque.\n",
        "    self.buffer.append(Transition(state, action, reward, next_state, done))\n",
        "\n",
        "  def sample(self, batch_size: int, device: torch.device):\n",
        "      \"\"\"\n",
        "      Randomly samples a minibatch of transitions from the buffer and\n",
        "      returns them as PyTorch tensors, ready for training.\n",
        "\n",
        "      Args:\n",
        "          batch_size: The number of transitions to sample.\n",
        "          device: The PyTorch device (e.g., 'cuda' or 'cpu') to place the tensors on.\n",
        "\n",
        "      Returns:\n",
        "          A tuple of PyTorch tensors: (states, actions, rewards, next_states, dones).\n",
        "      \"\"\"\n",
        "      # Randomly sample 'batch_size' number of transitions from the buffer.\n",
        "      # By sampling randomly from the replay buffer, you break correlations\n",
        "      # between consecutive experiences, which is crucial for the stability and\n",
        "      # effectiveness of off-policy reinforcement learning algorithms like DQN.\n",
        "      batch = self.rng.sample(self.buffer, batch_size)\n",
        "\n",
        "      # Convert the sampled batch of transitions into separate PyTorch tensors.\n",
        "      # This step prepares the data in the required format for PyTorch neural networks.\n",
        "\n",
        "      # Stack individual state NumPy arrays into a single batch NumPy array,\n",
        "      # then convert to a PyTorch tensor of type float32 and move to the specified device.\n",
        "      state  = torch.tensor(np.stack([b.state  for b in batch]), dtype=torch.float32, device=device)\n",
        "\n",
        "      # Convert action list to a PyTorch tensor of type long (for discrete actions),\n",
        "      # move to device, and add an extra dimension (unsqueeze(1)) for consistency with gathering operations.\n",
        "      action  = torch.tensor([b.action   for b in batch], dtype=torch.long,   device=device).unsqueeze(1) # Actions are long tensors\n",
        "\n",
        "      # Convert reward list to a PyTorch tensor of type float32,\n",
        "      # move to device, and add an extra dimension (unsqueeze(1)) for consistency.\n",
        "      reward  = torch.tensor([b.reward   for b in batch], dtype=torch.float32, device=device).unsqueeze(1) # Rewards are float tensors\n",
        "\n",
        "      # Stack individual next_state NumPy arrays into a batch NumPy array,\n",
        "      # then convert to a PyTorch tensor of type float32 and move to the specified device.\n",
        "      next_state = torch.tensor(np.stack([b.next_state for b in batch]), dtype=torch.float32, device=device)\n",
        "\n",
        "      # Convert done list (boolean flags) to a PyTorch tensor of type float32 (0.0 or 1.0),\n",
        "      # move to device, and add an extra dimension (unsqueeze(1)). Used for masking terminal states in target calculation.\n",
        "      done  = torch.tensor([b.done for b in batch], dtype=torch.float32, device=device).unsqueeze(1)\n",
        "\n",
        "      return state, action, reward, next_state, done"
      ],
      "metadata": {
        "colab": {
          "base_uri": "https://localhost:8080/"
        },
        "id": "Nh8Vjm8R84IU",
        "outputId": "d7688351-d777-4f56-e146-1c55f5b9c1a3"
      },
      "id": "Nh8Vjm8R84IU",
      "execution_count": 5,
      "outputs": [
        {
          "output_type": "stream",
          "name": "stdout",
          "text": [
            "Writing replay_buffer.py\n"
          ]
        }
      ]
    },
    {
      "cell_type": "code",
      "source": [
        "%%writefile agent.py\n",
        "\n",
        "# agent.py\n",
        "import numpy as np\n",
        "import torch\n",
        "import torch.nn as nn\n",
        "import torch.optim as optim\n",
        "\n",
        "from config import Config\n",
        "from network import DuelingQNetwork\n",
        "from replay_buffer import ReplayBuffer\n",
        "\n",
        "class DuelingDDQNAgent:\n",
        "    \"\"\"\n",
        "    Implements a Dueling Double Deep Q-Network (Dueling DDQN) agent.\n",
        "    \"\"\"\n",
        "    def __init__(self, state_dim: int, n_actions: int, cfg: Config, seed: int = 42):\n",
        "        \"\"\"\n",
        "        Initializes the Dueling DDQN agent.\n",
        "\n",
        "        Args:\n",
        "            state_dim: Dimension of the state space.\n",
        "            n_actions: Number of possible actions.\n",
        "            cfg: Configuration object containing hyperparameters.\n",
        "            seed: Random seed for reproducibility.\n",
        "        \"\"\"\n",
        "        self.cfg = cfg\n",
        "        self.n_actions = n_actions\n",
        "        # Determine the device to use for tensors (GPU if available, otherwise CPU)\n",
        "        self.device = torch.device(\"cuda\" if torch.cuda.is_available() else \"cpu\")\n",
        "\n",
        "        # Set random seeds for reproducibility\n",
        "        torch.manual_seed(seed)\n",
        "        np.random.seed(seed)\n",
        "\n",
        "        # Initialize the online and target Q-networks\n",
        "        self.q = DuelingQNetwork(state_dim, n_actions).to(self.device)\n",
        "        self.q_target = DuelingQNetwork(state_dim, n_actions).to(self.device)\n",
        "        # Copy initial weights from the online network to the target network\n",
        "        self.q_target.load_state_dict(self.q.state_dict())\n",
        "        # Set the target network to evaluation mode (gradients are not computed)\n",
        "        self.q_target.eval()\n",
        "\n",
        "        # Initialize the optimizer for the online network\n",
        "        self.opt = optim.Adam(self.q.parameters(), lr=cfg.lr)\n",
        "        # Initialize the replay buffer\n",
        "        self.rb = ReplayBuffer(cfg.buffer_size, seed=seed)\n",
        "\n",
        "        # Exploration parameter (epsilon)\n",
        "        self.eps = cfg.eps_start\n",
        "        # Global step counter\n",
        "        self.global_step = 0\n",
        "\n",
        "    @torch.no_grad() # Decorator to disable gradient computation within this method\n",
        "    def act(self, state_np: np.ndarray) -> int:\n",
        "        \"\"\"\n",
        "        Selects an action using an epsilon-greedy policy on the online network.\n",
        "\n",
        "        Args:\n",
        "            state_np: The current state observation as a NumPy array.\n",
        "\n",
        "        Returns:\n",
        "            The selected action as an integer.\n",
        "        \"\"\"\n",
        "        # Epsilon-greedy exploration: choose random action with probability epsilon\n",
        "        if np.random.rand() < self.eps:\n",
        "            return np.random.randint(self.n_actions)\n",
        "        # Greedy action selection: choose action with the highest Q-value\n",
        "        else:\n",
        "            # Convert state to tensor and add a batch dimension\n",
        "            s = torch.tensor(state_np, dtype=torch.float32, device=self.device).unsqueeze(0)\n",
        "            # Get Q-values from the online network\n",
        "            q = self.q(s)                   # [1, A]\n",
        "            # Return the index of the action with the maximum Q-value\n",
        "            return int(q.argmax(dim=1))     # greedy action\n",
        "\n",
        "    def update(self):\n",
        "        \"\"\"\n",
        "        Performs one learning step (update) of the agent's Q-network.\n",
        "        Samples a batch from the replay buffer and updates the online network\n",
        "        using the Double DQN and Dueling DQN concepts.\n",
        "        \"\"\"\n",
        "        # Skip learning if not enough transitions are in the replay buffer\n",
        "        if len(self.rb) < self.cfg.start_learning:\n",
        "            return None\n",
        "        # Skip learning if not at the specified training frequency\n",
        "        if self.global_step % self.cfg.train_freq != 0:\n",
        "            return None\n",
        "\n",
        "        # Sample a batch of transitions from the replay buffer\n",
        "        s, a, r, ns, d = self.rb.sample(self.cfg.batch_size, self.device)\n",
        "\n",
        "        # Compute the target Q-values (TD targets)\n",
        "        with torch.no_grad(): # No gradient computation needed for target calculation\n",
        "            # Double DQN: Select the next action using the online network\n",
        "            next_q_online = self.q(ns)                                # [B, A]\n",
        "            next_actions = next_q_online.argmax(dim=1, keepdim=True)  # [B, 1]\n",
        "            # Evaluate the selected next action using the target network\n",
        "            next_q_target = self.q_target(ns).gather(1, next_actions) # [B, 1]\n",
        "\n",
        "            # Calculate the TD target: R + gamma * Q_target(next_state, next_action) * (1 - done)\n",
        "            # (1 - done) ensures that the target is just the reward for terminal states\n",
        "            target = r + self.cfg.gamma * (1.0 - d) * next_q_target   # [B, 1]\n",
        "\n",
        "        # Compute the current Q-values for the actions taken in the batch\n",
        "        q_sa = self.q(s).gather(1, a)                                 # [B, 1]\n",
        "\n",
        "        # Compute the loss (difference between current Q and target Q)\n",
        "        # Using Huber loss (SmoothL1Loss) which is less sensitive to outliers than MSE\n",
        "        loss = nn.SmoothL1Loss()(q_sa, target)\n",
        "\n",
        "        # Perform a gradient descent step to update the online network\n",
        "        self.opt.zero_grad(set_to_none=True) # Clear previous gradients\n",
        "        loss.backward()                      # Compute gradients\n",
        "        # Clip gradients to prevent exploding gradients\n",
        "        nn.utils.clip_grad_norm_(self.q.parameters(), self.cfg.grad_clip)\n",
        "        self.opt.step()                      # Update network weights\n",
        "\n",
        "        # Update the target network\n",
        "        if self.cfg.tau >= 1.0:\n",
        "            # Hard update: copy weights from online to target network periodically\n",
        "            if self.global_step % self.cfg.target_update_freq == 0:\n",
        "                self.q_target.load_state_dict(self.q.state_dict())\n",
        "        else:\n",
        "            # Soft update: smoothly interpolate between online and target weights\n",
        "            with torch.no_grad():\n",
        "                for p, tp in zip(self.q.parameters(), self.q_target.parameters()):\n",
        "                    tp.data.mul_(1 - self.cfg.tau).add_(self.cfg.tau * p.data)\n",
        "\n",
        "        # Return the loss value\n",
        "        return float(loss.item())\n",
        "\n",
        "    def update_epsilon(self):\n",
        "        \"\"\"\n",
        "        Updates the epsilon value for epsilon-greedy exploration.\n",
        "        Decays linearly from eps_start to eps_end over eps_decay_steps.\n",
        "        \"\"\"\n",
        "        # Calculate the fraction of decay steps completed\n",
        "        frac = min(1.0, self.global_step / self.cfg.eps_decay_steps)\n",
        "        # Linearly interpolate epsilon\n",
        "        self.eps = self.cfg.eps_start + frac * (self.cfg.eps_end - self.cfg.eps_start)"
      ],
      "metadata": {
        "colab": {
          "base_uri": "https://localhost:8080/"
        },
        "id": "G_SqJtCaGkaj",
        "outputId": "093466cd-3d11-4ebd-9f19-8a32c4aaef67"
      },
      "id": "G_SqJtCaGkaj",
      "execution_count": 18,
      "outputs": [
        {
          "output_type": "stream",
          "name": "stdout",
          "text": [
            "Overwriting agent.py\n"
          ]
        }
      ]
    },
    {
      "cell_type": "code",
      "metadata": {
        "colab": {
          "base_uri": "https://localhost:8080/"
        },
        "id": "a16c99ec",
        "outputId": "f3dfd9af-e46f-4f36-c38a-82e302b980bc"
      },
      "source": [
        "%%writefile train.py\n",
        "\n",
        "import gymnasium as gym\n",
        "import numpy as np\n",
        "from tqdm import tqdm\n",
        "from collections import deque\n",
        "import torch # Import torch\n",
        "\n",
        "from config import Config, SEED # Import SEED\n",
        "from agent import DuelingDDQNAgent\n",
        "\n",
        "\n",
        "def train(cfg: Config):\n",
        "    \"\"\"Trains the Dueling DDQN agent.\"\"\"\n",
        "    # Add a print statement here to confirm the loaded total_steps inside the function\n",
        "    print(f\"train function received total_steps: {cfg.total_steps}\")\n",
        "\n",
        "    # Create environment\n",
        "    env = gym.make(cfg.env_id)\n",
        "    obs, info = env.reset(seed=SEED) # Use SEED directly\n",
        "    state_dim = env.observation_space.shape[0]\n",
        "    n_actions = env.action_space.n\n",
        "\n",
        "    # Create agent\n",
        "    agent = DuelingDDQNAgent(state_dim, n_actions, cfg, seed=SEED) # Use SEED directly\n",
        "\n",
        "    # Training loop\n",
        "    episode_returns = [] # List to store total return for each episode\n",
        "    returns_window = deque(maxlen=100) # Store last 100 returns for average\n",
        "    losses = deque(maxlen=100) # Store last 100 losses for average\n",
        "\n",
        "    total_reward_episode = 0 # Accumulate reward within an episode\n",
        "\n",
        "    pbar = tqdm(range(cfg.total_steps))\n",
        "    for step in pbar:\n",
        "        agent.global_step = step\n",
        "\n",
        "        # Select action\n",
        "        action = agent.act(obs)\n",
        "\n",
        "        # Take step in environment\n",
        "        next_obs, reward, terminated, truncated, info = env.step(action)\n",
        "\n",
        "        # Accumulate reward for the current episode\n",
        "        total_reward_episode += reward\n",
        "\n",
        "        # Clip reward if configured\n",
        "        if cfg.reward_clip is not None:\n",
        "            reward = np.clip(reward, -cfg.reward_clip, cfg.reward_clip)\n",
        "\n",
        "\n",
        "        # Store transition in replay buffer\n",
        "        agent.rb.add(obs, action, reward, next_obs, terminated or truncated)\n",
        "\n",
        "        # Update agent (if enough data in replay buffer)\n",
        "        loss = agent.update()\n",
        "        if loss is not None:\n",
        "            losses.append(loss)\n",
        "\n",
        "        # Update epsilon\n",
        "        agent.update_epsilon()\n",
        "\n",
        "        # Reset environment if episode finished\n",
        "        if terminated or truncated:\n",
        "            episode_returns.append(total_reward_episode) # Store total reward for the finished episode\n",
        "            returns_window.append(total_reward_episode) # Add to the window for average calculation\n",
        "            total_reward_episode = 0 # Reset episode reward\n",
        "            obs, info = env.reset()\n",
        "        else:\n",
        "            obs = next_obs\n",
        "\n",
        "        # Log progress\n",
        "        if step % 1000 == 0:\n",
        "            avg_return = np.mean(list(returns_window)) if returns_window else 0 # Calculate average from window\n",
        "            avg_loss = np.mean(losses) if losses else 0\n",
        "            pbar.set_description(f\"Step: {step}, Avg Return: {avg_return:.2f}, Avg Loss: {avg_loss:.4f}, Epsilon: {agent.eps:.3f}\")\n",
        "\n",
        "    env.close()\n",
        "    return agent, episode_returns, losses # Return episode_returns\n"
      ],
      "id": "a16c99ec",
      "execution_count": 7,
      "outputs": [
        {
          "output_type": "stream",
          "name": "stdout",
          "text": [
            "Writing train.py\n"
          ]
        }
      ]
    },
    {
      "cell_type": "markdown",
      "id": "7259568c-0352-4271-94cf-28361e1cabec",
      "metadata": {
        "id": "7259568c-0352-4271-94cf-28361e1cabec"
      },
      "source": [
        "#### 5) Run the training and show evidence that the agent is learning.  \n",
        "\n",
        "For example, its average reward (score) should increase with more episodes.\n",
        "\n",
        "**(POINTS: 1 if successful)**"
      ]
    },
    {
      "cell_type": "code",
      "metadata": {
        "colab": {
          "base_uri": "https://localhost:8080/",
          "height": 408
        },
        "id": "89f7ac74",
        "outputId": "b1a30d98-dc95-439c-cbe4-3138e022eb9c"
      },
      "source": [
        "# Run the training process directly in the notebook to make variables available\n",
        "import torch\n",
        "from config import Config\n",
        "from train import train\n",
        "\n",
        "cfg = Config()\n",
        "\n",
        "# Add a print statement to check the loaded total_steps\n",
        "print(f\"Config loaded with total_steps: {cfg.total_steps}\")\n",
        "\n",
        "# Call the train function\n",
        "agent, episode_returns, losses = train(cfg)\n",
        "\n",
        "# Print the total number of episodes completed from the returned list\n",
        "print(f\"Total episodes completed: {len(episode_returns)}\")\n",
        "if episode_returns:\n",
        "    print(f\"Average return over completed episodes: {np.mean(episode_returns):.2f}\")\n",
        "\n",
        "\n",
        "# Save the trained agent's state dictionary\n",
        "torch.save(agent.q.state_dict(), \"trained_dueling_ddqn_agent.pth\")\n",
        "print(\"\\nTraining completed and episode_returns variable is available.\")\n",
        "print(\"Trained agent state dictionary saved to trained_dueling_ddqn_agent.pth\")"
      ],
      "id": "89f7ac74",
      "execution_count": 19,
      "outputs": [
        {
          "output_type": "stream",
          "name": "stdout",
          "text": [
            "Config loaded with total_steps: 50000\n",
            "train function received total_steps: 50000\n"
          ]
        },
        {
          "output_type": "stream",
          "name": "stderr",
          "text": [
            "Step: 10000, Avg Return: -178.50, Avg Loss: 0.3161, Epsilon: 0.953:  21%|██▏       | 10712/50000 [00:07<00:27, 1411.40it/s]\n"
          ]
        },
        {
          "output_type": "error",
          "ename": "KeyboardInterrupt",
          "evalue": "",
          "traceback": [
            "\u001b[0;31m---------------------------------------------------------------------------\u001b[0m",
            "\u001b[0;31mKeyboardInterrupt\u001b[0m                         Traceback (most recent call last)",
            "\u001b[0;32m/tmp/ipython-input-739257617.py\u001b[0m in \u001b[0;36m<cell line: 0>\u001b[0;34m()\u001b[0m\n\u001b[1;32m     10\u001b[0m \u001b[0;34m\u001b[0m\u001b[0m\n\u001b[1;32m     11\u001b[0m \u001b[0;31m# Call the train function\u001b[0m\u001b[0;34m\u001b[0m\u001b[0;34m\u001b[0m\u001b[0m\n\u001b[0;32m---> 12\u001b[0;31m \u001b[0magent\u001b[0m\u001b[0;34m,\u001b[0m \u001b[0mepisode_returns\u001b[0m\u001b[0;34m,\u001b[0m \u001b[0mlosses\u001b[0m \u001b[0;34m=\u001b[0m \u001b[0mtrain\u001b[0m\u001b[0;34m(\u001b[0m\u001b[0mcfg\u001b[0m\u001b[0;34m)\u001b[0m\u001b[0;34m\u001b[0m\u001b[0;34m\u001b[0m\u001b[0m\n\u001b[0m\u001b[1;32m     13\u001b[0m \u001b[0;34m\u001b[0m\u001b[0m\n\u001b[1;32m     14\u001b[0m \u001b[0;31m# Print the total number of episodes completed from the returned list\u001b[0m\u001b[0;34m\u001b[0m\u001b[0;34m\u001b[0m\u001b[0m\n",
            "\u001b[0;32m/content/train.py\u001b[0m in \u001b[0;36mtrain\u001b[0;34m(cfg)\u001b[0m\n\u001b[1;32m     53\u001b[0m \u001b[0;34m\u001b[0m\u001b[0m\n\u001b[1;32m     54\u001b[0m         \u001b[0;31m# Update agent (if enough data in replay buffer)\u001b[0m\u001b[0;34m\u001b[0m\u001b[0;34m\u001b[0m\u001b[0m\n\u001b[0;32m---> 55\u001b[0;31m         \u001b[0mloss\u001b[0m \u001b[0;34m=\u001b[0m \u001b[0magent\u001b[0m\u001b[0;34m.\u001b[0m\u001b[0mupdate\u001b[0m\u001b[0;34m(\u001b[0m\u001b[0;34m)\u001b[0m\u001b[0;34m\u001b[0m\u001b[0;34m\u001b[0m\u001b[0m\n\u001b[0m\u001b[1;32m     56\u001b[0m         \u001b[0;32mif\u001b[0m \u001b[0mloss\u001b[0m \u001b[0;32mis\u001b[0m \u001b[0;32mnot\u001b[0m \u001b[0;32mNone\u001b[0m\u001b[0;34m:\u001b[0m\u001b[0;34m\u001b[0m\u001b[0;34m\u001b[0m\u001b[0m\n\u001b[1;32m     57\u001b[0m             \u001b[0mlosses\u001b[0m\u001b[0;34m.\u001b[0m\u001b[0mappend\u001b[0m\u001b[0;34m(\u001b[0m\u001b[0mloss\u001b[0m\u001b[0;34m)\u001b[0m\u001b[0;34m\u001b[0m\u001b[0;34m\u001b[0m\u001b[0m\n",
            "\u001b[0;32m/content/agent.py\u001b[0m in \u001b[0;36mupdate\u001b[0;34m(self)\u001b[0m\n\u001b[1;32m    111\u001b[0m         \u001b[0;31m# Perform a gradient descent step to update the online network\u001b[0m\u001b[0;34m\u001b[0m\u001b[0;34m\u001b[0m\u001b[0m\n\u001b[1;32m    112\u001b[0m         \u001b[0mself\u001b[0m\u001b[0;34m.\u001b[0m\u001b[0mopt\u001b[0m\u001b[0;34m.\u001b[0m\u001b[0mzero_grad\u001b[0m\u001b[0;34m(\u001b[0m\u001b[0mset_to_none\u001b[0m\u001b[0;34m=\u001b[0m\u001b[0;32mTrue\u001b[0m\u001b[0;34m)\u001b[0m \u001b[0;31m# Clear previous gradients\u001b[0m\u001b[0;34m\u001b[0m\u001b[0;34m\u001b[0m\u001b[0m\n\u001b[0;32m--> 113\u001b[0;31m         \u001b[0mloss\u001b[0m\u001b[0;34m.\u001b[0m\u001b[0mbackward\u001b[0m\u001b[0;34m(\u001b[0m\u001b[0;34m)\u001b[0m                      \u001b[0;31m# Compute gradients\u001b[0m\u001b[0;34m\u001b[0m\u001b[0;34m\u001b[0m\u001b[0m\n\u001b[0m\u001b[1;32m    114\u001b[0m         \u001b[0;31m# Clip gradients to prevent exploding gradients\u001b[0m\u001b[0;34m\u001b[0m\u001b[0;34m\u001b[0m\u001b[0m\n\u001b[1;32m    115\u001b[0m         \u001b[0mnn\u001b[0m\u001b[0;34m.\u001b[0m\u001b[0mutils\u001b[0m\u001b[0;34m.\u001b[0m\u001b[0mclip_grad_norm_\u001b[0m\u001b[0;34m(\u001b[0m\u001b[0mself\u001b[0m\u001b[0;34m.\u001b[0m\u001b[0mq\u001b[0m\u001b[0;34m.\u001b[0m\u001b[0mparameters\u001b[0m\u001b[0;34m(\u001b[0m\u001b[0;34m)\u001b[0m\u001b[0;34m,\u001b[0m \u001b[0mself\u001b[0m\u001b[0;34m.\u001b[0m\u001b[0mcfg\u001b[0m\u001b[0;34m.\u001b[0m\u001b[0mgrad_clip\u001b[0m\u001b[0;34m)\u001b[0m\u001b[0;34m\u001b[0m\u001b[0;34m\u001b[0m\u001b[0m\n",
            "\u001b[0;32m/usr/local/lib/python3.12/dist-packages/torch/_tensor.py\u001b[0m in \u001b[0;36mbackward\u001b[0;34m(self, gradient, retain_graph, create_graph, inputs)\u001b[0m\n\u001b[1;32m    623\u001b[0m                 \u001b[0minputs\u001b[0m\u001b[0;34m=\u001b[0m\u001b[0minputs\u001b[0m\u001b[0;34m,\u001b[0m\u001b[0;34m\u001b[0m\u001b[0;34m\u001b[0m\u001b[0m\n\u001b[1;32m    624\u001b[0m             )\n\u001b[0;32m--> 625\u001b[0;31m         torch.autograd.backward(\n\u001b[0m\u001b[1;32m    626\u001b[0m             \u001b[0mself\u001b[0m\u001b[0;34m,\u001b[0m \u001b[0mgradient\u001b[0m\u001b[0;34m,\u001b[0m \u001b[0mretain_graph\u001b[0m\u001b[0;34m,\u001b[0m \u001b[0mcreate_graph\u001b[0m\u001b[0;34m,\u001b[0m \u001b[0minputs\u001b[0m\u001b[0;34m=\u001b[0m\u001b[0minputs\u001b[0m\u001b[0;34m\u001b[0m\u001b[0;34m\u001b[0m\u001b[0m\n\u001b[1;32m    627\u001b[0m         )\n",
            "\u001b[0;32m/usr/local/lib/python3.12/dist-packages/torch/autograd/__init__.py\u001b[0m in \u001b[0;36mbackward\u001b[0;34m(tensors, grad_tensors, retain_graph, create_graph, grad_variables, inputs)\u001b[0m\n\u001b[1;32m    352\u001b[0m     \u001b[0;31m# some Python versions print out the first line of a multi-line function\u001b[0m\u001b[0;34m\u001b[0m\u001b[0;34m\u001b[0m\u001b[0m\n\u001b[1;32m    353\u001b[0m     \u001b[0;31m# calls in the traceback and some print out the last line\u001b[0m\u001b[0;34m\u001b[0m\u001b[0;34m\u001b[0m\u001b[0m\n\u001b[0;32m--> 354\u001b[0;31m     _engine_run_backward(\n\u001b[0m\u001b[1;32m    355\u001b[0m         \u001b[0mtensors\u001b[0m\u001b[0;34m,\u001b[0m\u001b[0;34m\u001b[0m\u001b[0;34m\u001b[0m\u001b[0m\n\u001b[1;32m    356\u001b[0m         \u001b[0mgrad_tensors_\u001b[0m\u001b[0;34m,\u001b[0m\u001b[0;34m\u001b[0m\u001b[0;34m\u001b[0m\u001b[0m\n",
            "\u001b[0;32m/usr/local/lib/python3.12/dist-packages/torch/autograd/graph.py\u001b[0m in \u001b[0;36m_engine_run_backward\u001b[0;34m(t_outputs, *args, **kwargs)\u001b[0m\n\u001b[1;32m    839\u001b[0m         \u001b[0munregister_hooks\u001b[0m \u001b[0;34m=\u001b[0m \u001b[0m_register_logging_hooks_on_whole_graph\u001b[0m\u001b[0;34m(\u001b[0m\u001b[0mt_outputs\u001b[0m\u001b[0;34m)\u001b[0m\u001b[0;34m\u001b[0m\u001b[0;34m\u001b[0m\u001b[0m\n\u001b[1;32m    840\u001b[0m     \u001b[0;32mtry\u001b[0m\u001b[0;34m:\u001b[0m\u001b[0;34m\u001b[0m\u001b[0;34m\u001b[0m\u001b[0m\n\u001b[0;32m--> 841\u001b[0;31m         return Variable._execution_engine.run_backward(  # Calls into the C++ engine to run the backward pass\n\u001b[0m\u001b[1;32m    842\u001b[0m             \u001b[0mt_outputs\u001b[0m\u001b[0;34m,\u001b[0m \u001b[0;34m*\u001b[0m\u001b[0margs\u001b[0m\u001b[0;34m,\u001b[0m \u001b[0;34m**\u001b[0m\u001b[0mkwargs\u001b[0m\u001b[0;34m\u001b[0m\u001b[0;34m\u001b[0m\u001b[0m\n\u001b[1;32m    843\u001b[0m         )  # Calls into the C++ engine to run the backward pass\n",
            "\u001b[0;31mKeyboardInterrupt\u001b[0m: "
          ]
        }
      ]
    },
    {
      "cell_type": "code",
      "source": [
        "!ls\n"
      ],
      "metadata": {
        "colab": {
          "base_uri": "https://localhost:8080/"
        },
        "id": "RmIic7_KK_Vc",
        "outputId": "9d7a6782-3805-4c18-ec08-689aa6515fb5"
      },
      "id": "RmIic7_KK_Vc",
      "execution_count": 9,
      "outputs": [
        {
          "output_type": "stream",
          "name": "stdout",
          "text": [
            "agent.py   network.py\treplay_buffer.py  trained_dueling_ddqn_agent.pth\n",
            "config.py  __pycache__\tsample_data\t  train.py\n"
          ]
        }
      ]
    },
    {
      "cell_type": "code",
      "metadata": {
        "colab": {
          "base_uri": "https://localhost:8080/",
          "height": 564
        },
        "id": "0e058a30",
        "outputId": "0dd07551-e4ed-4423-dec5-62e5ea38d7a4"
      },
      "source": [
        "import matplotlib.pyplot as plt\n",
        "import numpy as np\n",
        "\n",
        "# Assuming 'episode_returns' is available in the current environment\n",
        "# after running the train.py script\n",
        "if 'episode_returns' in locals():\n",
        "    plt.figure(figsize=(10, 6))\n",
        "    plt.plot(episode_returns, label='Episode Return')\n",
        "    plt.xlabel('Episode Number')\n",
        "    plt.ylabel('Total Reward')\n",
        "    plt.title('Episode Returns During Training')\n",
        "    plt.grid(True)\n",
        "\n",
        "    # Optional: Plot a rolling average to smooth the curve\n",
        "    if len(episode_returns) > 10:\n",
        "        rolling_avg = np.convolve(episode_returns, np.ones(10)/10, mode='valid')\n",
        "        plt.plot(np.arange(len(rolling_avg)) + 10, rolling_avg, label='Rolling Average (10 episodes)', color='orange')\n",
        "        plt.legend()\n",
        "\n",
        "    plt.show()\n",
        "else:\n",
        "    print(\"Episode returns not available. Please run the training script (cell with !python train.py) first.\")"
      ],
      "id": "0e058a30",
      "execution_count": 9,
      "outputs": [
        {
          "output_type": "display_data",
          "data": {
            "text/plain": [
              "<Figure size 1000x600 with 1 Axes>"
            ],
            "image/png": "[encoded data removed]"
          },
          "metadata": {}
        }
      ]
    },
    {
      "cell_type": "code",
      "metadata": {
        "colab": {
          "base_uri": "https://localhost:8080/"
        },
        "id": "f076cd10",
        "outputId": "0cbac5b5-fe5e-4b1e-a89d-973f0c56f80c"
      },
      "source": [
        "%%writefile run_episodes.py\n",
        "\n",
        "import gymnasium as gym\n",
        "import torch\n",
        "import numpy as np\n",
        "\n",
        "from config import Config\n",
        "from agent import DuelingDDQNAgent\n",
        "\n",
        "def run_episodes(agent: DuelingDDQNAgent, env_id: str, num_episodes: int = 10, render: bool = True):\n",
        "    \"\"\"Runs episodes with a trained agent.\"\"\"\n",
        "    # Set render_mode to 'human' for rendering, or None otherwise\n",
        "    env = gym.make(env_id, render_mode=\"human\" if render else None)\n",
        "\n",
        "    for episode in range(num_episodes):\n",
        "        obs, info = env.reset()\n",
        "        total_reward = 0\n",
        "        terminated = False\n",
        "        truncated = False\n",
        "        while not terminated and not truncated:\n",
        "            # Agent selects action (remove torch.no_grad() if running from here, or use agent.act if it handles device)\n",
        "            # Assuming agent.act handles the device correctly\n",
        "            action = agent.act(obs)\n",
        "            # Step in the environment\n",
        "            next_obs, reward, terminated, truncated, info = env.step(action)\n",
        "            total_reward += reward\n",
        "            obs = next_obs\n",
        "\n",
        "        print(f\"Episode {episode + 1}: Total Reward = {total_reward:.2f}\")\n",
        "\n",
        "    env.close()\n",
        "\n"
      ],
      "id": "f076cd10",
      "execution_count": 12,
      "outputs": [
        {
          "output_type": "stream",
          "name": "stdout",
          "text": [
            "Overwriting run_episodes.py\n"
          ]
        }
      ]
    },
    {
      "cell_type": "markdown",
      "id": "94d60b6e-3530-48d5-b1d0-7f837b5a8c1c",
      "metadata": {
        "id": "94d60b6e-3530-48d5-b1d0-7f837b5a8c1c"
      },
      "source": [
        "#### 6) Run a few episodes and show results\n",
        "**(POINTS: 1 if successful)**"
      ]
    },
    {
      "cell_type": "code",
      "metadata": {
        "colab": {
          "base_uri": "https://localhost:8080/"
        },
        "id": "87cacfe3",
        "outputId": "63e5ba51-b40d-49b7-e5ae-2610e7a34792"
      },
      "source": [
        "# This script loads the saved agent and runs some episodes.\n",
        "\n",
        "import torch\n",
        "from config import Config\n",
        "from agent import DuelingDDQNAgent\n",
        "from run_episodes import run_episodes\n",
        "import gymnasium as gym\n",
        "\n",
        "cfg = Config()\n",
        "\n",
        "# Create a new instance of the agent\n",
        "# You need to know the state_dim and n_actions of your environment\n",
        "env = gym.make(cfg.env_id)\n",
        "state_dim = env.observation_space.shape[0]\n",
        "n_actions = env.action_space.n\n",
        "env.close() # Close the temporary environment\n",
        "\n",
        "loaded_agent = DuelingDDQNAgent(state_dim=state_dim, n_actions=n_actions, cfg=cfg)\n",
        "\n",
        "# Load the saved state dictionary into the agent's Q-network\n",
        "try:\n",
        "    loaded_agent.q.load_state_dict(torch.load(\"trained_dueling_ddqn_agent.pth\"))\n",
        "    print(\"Trained agent state dictionary loaded successfully.\")\n",
        "\n",
        "    # Run episodes with the loaded agent\n",
        "    run_episodes(loaded_agent, cfg.env_id, num_episodes=10, render=True)\n",
        "\n",
        "except FileNotFoundError:\n",
        "    print(\"Error: trained_dueling_ddqn_agent.pth not found.\")\n",
        "    print(\"Please ensure you have trained the agent and saved its state dictionary.\")\n",
        "except Exception as e:\n",
        "    print(f\"An error occurred while loading or running episodes: {e}\")"
      ],
      "id": "87cacfe3",
      "execution_count": 16,
      "outputs": [
        {
          "output_type": "stream",
          "name": "stdout",
          "text": [
            "Trained agent state dictionary loaded successfully.\n",
            "Episode 1: Total Reward = -125.88\n",
            "Episode 2: Total Reward = -108.28\n",
            "Episode 3: Total Reward = -121.12\n",
            "Episode 4: Total Reward = -243.53\n",
            "Episode 5: Total Reward = -248.17\n",
            "Episode 6: Total Reward = -216.72\n",
            "Episode 7: Total Reward = -271.55\n",
            "Episode 8: Total Reward = -267.48\n",
            "Episode 9: Total Reward = -150.12\n",
            "Episode 10: Total Reward = -286.67\n"
          ]
        }
      ]
    }
  ],
  "metadata": {
    "kernelspec": {
      "display_name": "Python 3",
      "name": "python3"
    },
    "language_info": {
      "codemirror_mode": {
        "name": "ipython",
        "version": 3
      },
      "file_extension": ".py",
      "mimetype": "text/x-python",
      "name": "python",
      "nbconvert_exporter": "python",
      "pygments_lexer": "ipython3",
      "version": "3.12.9"
    },
    "colab": {
      "provenance": [],
      "gpuType": "T4",
      "include_colab_link": true
    },
    "accelerator": "GPU"
  },
  "nbformat": 4,
  "nbformat_minor": 5
}