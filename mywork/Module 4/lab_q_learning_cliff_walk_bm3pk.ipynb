{
  "cells": [
    {
      "cell_type": "markdown",
      "id": "d2ba6549-8b15-4f95-9615-549dd5fa2f7c",
      "metadata": {
        "id": "d2ba6549-8b15-4f95-9615-549dd5fa2f7c"
      },
      "source": [
        "### Lab: Q-Learning to Solve the Cliff Walk Problem\n",
        "\n",
        "### University of Virginia\n",
        "### Reinforcement Learning\n",
        "#### Last updated: May 26, 2025\n",
        "\n",
        "---"
      ]
    },
    {
      "cell_type": "markdown",
      "id": "2afeab41-bd5f-40e8-ad2f-e8999f13ed45",
      "metadata": {
        "id": "2afeab41-bd5f-40e8-ad2f-e8999f13ed45"
      },
      "source": [
        "#### Instructions:\n",
        "\n",
        "In Sutton & Barto (Section 6.5), the Cliff Walking problem is presented. You will apply Q-learning to teach an agent to solve it.  \n",
        "\n",
        "Consider the grid below, where an agent begins in starting state S and wishes to reach goal state G by walking on a path and keeping off The Cliff (the gray region).  At each time step, the agent can potentially take one step left, right, up, or down. There is no discounting.  It is not possible for the agent to move off the grid. If the agent visits The Cliff, it incurs reward -100 and is immediately sent back to the start. The reward is -1 on all transitions apart from The Cliff. This incentivizes the agent to reach G as quickly as possible.\n",
        "\n",
        "**Note**: Do not use libraries from `networkx`, `gym`, `gymnasium` when solving this problem.\n",
        "\n",
        "---"
      ]
    },
    {
      "cell_type": "markdown",
      "id": "4266cda1-8a73-4761-a843-676543a67c0d",
      "metadata": {
        "id": "4266cda1-8a73-4761-a843-676543a67c0d"
      },
      "source": [
        "<img src=\"./cliff_walk.png\">  "
      ]
    },
    {
      "cell_type": "markdown",
      "id": "7c322b08-1720-43e0-a3b0-0788fc33b6a7",
      "metadata": {
        "id": "7c322b08-1720-43e0-a3b0-0788fc33b6a7"
      },
      "source": [
        "#### TOTAL POINTS: 12\n",
        "\n",
        "---"
      ]
    },
    {
      "cell_type": "markdown",
      "id": "7a304cd5-72e7-4f53-95d4-1cb9fcfb1d1f",
      "metadata": {
        "id": "7a304cd5-72e7-4f53-95d4-1cb9fcfb1d1f"
      },
      "source": [
        "#### 1) Clearly explain how you will set up the state space and action space.\n",
        "**(POINTS: 2)**"
      ]
    },
    {
      "cell_type": "markdown",
      "source": [
        "### **State Space**\n",
        "\n",
        "The state space consists of a 4 × 12 grid, providing 48 discrete state.  \n",
        "Each state is represented as a row–column tuple $(r, c)$.  \n",
        "For example, the starting position is $(3, 0)$ and the goal state **G** is at $(3, 11)$.  \n",
        "The cliff region occupies cells $(3, 1)$ through $(3, 10)$.\n",
        "\n",
        "For this implementation, I will flatten each $(r, c)$ pair into a single integer index using the formula:\n",
        "\n",
        "$$\n",
        "\\text{index} = r \\times 12 + c\n",
        "$$\n",
        "\n",
        "This yields state indices ranging from 0 to 47, with the start state corresponding to index 36.\n",
        "\n",
        "---\n",
        "\n",
        "### **Action Space**\n",
        "\n",
        "The action space consists of four discrete actions available in each state: **Up**, **Right**, **Down**, and **Left**.  \n",
        "If an action would move the agent off the grid, the agent remains in the same state.\n",
        "\n",
        "| Action | Code | Δrow | Δcol | Description |\n",
        "|:-------|:-----:|:----:|:----:|:-------------|\n",
        "| Up     | 0 | −1 | 0 | Move one cell up |\n",
        "| Right  | 1 | 0 | +1 | Move one cell right |\n",
        "| Down   | 2 | +1 | 0 | Move one cell down |\n",
        "| Left   | 3 | 0 | −1 | Move one cell left |\n",
        "\n",
        "If the agent steps into the cliff region, it receives a reward of −100 and is reset to the start at $(3, 0)$, which corresponds to index 36. The episode ends.\n"
      ],
      "metadata": {
        "id": "iVvygwICcDcJ"
      },
      "id": "iVvygwICcDcJ"
    },
    {
      "cell_type": "markdown",
      "source": [
        "The following shows the state space defined by the grid indexes."
      ],
      "metadata": {
        "id": "k9FbC7ULf14D"
      },
      "id": "k9FbC7ULf14D"
    },
    {
      "cell_type": "code",
      "source": [
        "import numpy as np\n",
        "grid = np.arange(48).reshape(4, 12)\n",
        "grid\n"
      ],
      "metadata": {
        "colab": {
          "base_uri": "https://localhost:8080/"
        },
        "id": "lXZD0F4Vfkyt",
        "outputId": "31f0374f-1d4b-4ba9-cb66-ad3a5ed0b6e2"
      },
      "id": "lXZD0F4Vfkyt",
      "execution_count": null,
      "outputs": [
        {
          "output_type": "execute_result",
          "data": {
            "text/plain": [
              "array([[ 0,  1,  2,  3,  4,  5,  6,  7,  8,  9, 10, 11],\n",
              "       [12, 13, 14, 15, 16, 17, 18, 19, 20, 21, 22, 23],\n",
              "       [24, 25, 26, 27, 28, 29, 30, 31, 32, 33, 34, 35],\n",
              "       [36, 37, 38, 39, 40, 41, 42, 43, 44, 45, 46, 47]])"
            ]
          },
          "metadata": {},
          "execution_count": 1
        }
      ]
    },
    {
      "cell_type": "markdown",
      "id": "86d3e91d-ecb5-4c27-a703-4bd28d307800",
      "metadata": {
        "id": "86d3e91d-ecb5-4c27-a703-4bd28d307800"
      },
      "source": [
        "#### 2) Write a Q-learning algorithm that helps the agent learn a policy to reach the goal  \n",
        "**(POINTS: 8)**.\n",
        "\n",
        "Use $\\epsilon$-greedy action selection with $\\epsilon=0.1$.  \n",
        "You can decide the other parameters as you wish.  "
      ]
    },
    {
      "cell_type": "code",
      "source": [
        "import numpy as np\n",
        "SEED = 1\n",
        "rng  = np.random.default_rng(SEED)"
      ],
      "metadata": {
        "id": "dTeIk5QwjXdp"
      },
      "id": "dTeIk5QwjXdp",
      "execution_count": 208,
      "outputs": []
    },
    {
      "cell_type": "code",
      "execution_count": 209,
      "metadata": {
        "tags": [],
        "id": "1SNhhqxdjdGY"
      },
      "outputs": [],
      "source": [
        "#define the state space\n",
        "N_ROWS, N_COLS = 4, 12\n",
        "START = (3,0)\n",
        "GOAL  = (3,11)\n",
        "CLIFF = [(3, col) for col in range(1, 11)]"
      ],
      "id": "1SNhhqxdjdGY"
    },
    {
      "cell_type": "code",
      "source": [
        "#define the action space\n",
        "ACTION_NAMES = ['UP', 'RIGHT', 'DOWN', 'LEFT']\n",
        "ACTIONS = [(-1, 0), (0,1), (1, 0), (0, -1)]\n",
        "N_ACTIONS = len(ACTIONS)"
      ],
      "metadata": {
        "id": "yXN3q75EiikI"
      },
      "id": "yXN3q75EiikI",
      "execution_count": 210,
      "outputs": []
    },
    {
      "cell_type": "code",
      "source": [
        "#set up conversion for tuple to index\n",
        "\n",
        "def s2i(s):\n",
        "  r, c = s\n",
        "  return r * N_COLS + c\n",
        "\n",
        "def i2s(i):\n",
        "  r = i // N_COLS\n",
        "  c = i % N_COLS\n",
        "  return (r, c)\n",
        "\n",
        "N_STATES = N_ROWS * N_COLS\n",
        "START_INDEX = s2i(START)\n",
        "GOAL_INDEX = s2i(GOAL)"
      ],
      "metadata": {
        "id": "FwncOsq1j97q"
      },
      "id": "FwncOsq1j97q",
      "execution_count": 264,
      "outputs": []
    },
    {
      "cell_type": "markdown",
      "source": [],
      "metadata": {
        "id": "1hourc62jJ-m"
      },
      "id": "1hourc62jJ-m"
    },
    {
      "cell_type": "code",
      "source": [
        "def is_valid_state(r,c):\n",
        "  return 0 <= r < N_ROWS and 0 <= c < N_COLS\n",
        "\n",
        "def step(state_index, action):\n",
        "  \"\"\"\n",
        "  returns the next state, reward, and done flag\n",
        "  \"\"\"\n",
        "  #terminal state\n",
        "  if state_index == GOAL_INDEX:\n",
        "    reward = 0.0\n",
        "    done = True\n",
        "    ns_index = GOAL_INDEX\n",
        "    return ns_index, reward, done\n",
        "\n",
        "  r, c = i2s(state_index)\n",
        "  dr, dc = ACTIONS[action]\n",
        "  new_r, new_c = r + dr, c + dc\n",
        "\n",
        "  #if off grid - stay in place\n",
        "  if not is_valid_state(new_r, new_c):\n",
        "    new_r, new_c = r, c\n",
        "\n",
        "  #if cliff - reset and end episode\n",
        "  if (new_r, new_c) in CLIFF:\n",
        "    reward = -100.0\n",
        "    done = True\n",
        "    cliff_index = s2i((new_r, new_c)) # return where the agent when episode ends\n",
        "    return cliff_index, reward, done\n",
        "\n",
        "  #valid move\n",
        "  ns_index = s2i((new_r, new_c))\n",
        "  reward = -1.0\n",
        "  done = (ns_index == GOAL_INDEX)\n",
        "  return ns_index, reward, done\n"
      ],
      "metadata": {
        "id": "X_H5j8UkzkXi"
      },
      "id": "X_H5j8UkzkXi",
      "execution_count": 237,
      "outputs": []
    },
    {
      "cell_type": "code",
      "source": [
        "#define the e greedy policy\n",
        "\n",
        "def act(Q_row, epsilon = 0.1):\n",
        "  if rng.random() <= epsilon:\n",
        "    return rng.integers(N_ACTIONS)\n",
        "\n",
        "  #break ties randomly\n",
        "  max_val = np.max(Q_row)\n",
        "  candidates = np.flatnonzero(Q_row == max_val)\n",
        "  return int(rng.choice(candidates))\n"
      ],
      "metadata": {
        "id": "fC4UMax627LZ"
      },
      "id": "fC4UMax627LZ",
      "execution_count": 213,
      "outputs": []
    },
    {
      "cell_type": "code",
      "source": [
        "#quick test to check egreedy\n",
        "Q_row = np.array([0.5, 0.5, 0.2, 0.1])\n",
        "for _ in range(5):\n",
        "    print(act(Q_row, epsilon=0.1))\n"
      ],
      "metadata": {
        "colab": {
          "base_uri": "https://localhost:8080/"
        },
        "id": "rAKkMxXw8hOu",
        "outputId": "3eb20dcb-ba6d-4227-bc3b-16846ac3dac8"
      },
      "id": "rAKkMxXw8hOu",
      "execution_count": 274,
      "outputs": [
        {
          "output_type": "stream",
          "name": "stdout",
          "text": [
            "0\n",
            "1\n",
            "0\n",
            "0\n",
            "1\n"
          ]
        }
      ]
    },
    {
      "cell_type": "code",
      "source": [
        "episodes = 8000\n",
        "alpha = 0.5\n",
        "gamma = 1.0\n",
        "epsilon = 0.1"
      ],
      "metadata": {
        "id": "lwh4l--YP86A"
      },
      "id": "lwh4l--YP86A",
      "execution_count": 251,
      "outputs": []
    },
    {
      "cell_type": "code",
      "source": [
        "def q_learning (episodes, alpha, gamma, epsilon):\n",
        "  Q = np.zeros((N_STATES, N_ACTIONS), dtype=np.float32)\n",
        "  returns = [] # sum of rewards per episode\n",
        "  final_states = []\n",
        "\n",
        "  for episode in range(1, episodes + 1):\n",
        "    state_index = START_INDEX\n",
        "    done = False\n",
        "    episode_reward = 0.0\n",
        "\n",
        "    while not done:\n",
        "\n",
        "      action = act(Q[state_index], epsilon) #selection action\n",
        "      next_state_index, reward, done = step(state_index, action) #take a step\n",
        "\n",
        "      target = reward + (0.0 if done else gamma * np.max(Q[next_state_index]))\n",
        "\n",
        "      Q[state_index, action] += alpha * (target - Q[state_index, action])\n",
        "\n",
        "      state_index = next_state_index\n",
        "      episode_reward += reward #accumulate total reward for episode\n",
        "\n",
        "    #at end of episode, update total rewards and record final state\n",
        "    returns.append(episode_reward)\n",
        "    final_states.append(state_index)\n",
        "\n",
        "  return Q, np.array(returns), np.array(final_states)\n",
        "\n"
      ],
      "metadata": {
        "id": "IdwZ7l1x5aIV"
      },
      "id": "IdwZ7l1x5aIV",
      "execution_count": 252,
      "outputs": []
    },
    {
      "cell_type": "code",
      "source": [
        "#Extract the policy based on argmax\n",
        "Q, ep_returns, ep_final_states = q_learning(episodes, alpha, gamma, epsilon)\n",
        "policy = np.argmax(Q, axis=1).reshape(N_ROWS, N_COLS)"
      ],
      "metadata": {
        "id": "yzLjTjTnBp0l"
      },
      "id": "yzLjTjTnBp0l",
      "execution_count": 253,
      "outputs": []
    },
    {
      "cell_type": "code",
      "source": [
        "policy"
      ],
      "metadata": {
        "colab": {
          "base_uri": "https://localhost:8080/"
        },
        "id": "lY2T1eT3KsgY",
        "outputId": "c0aacea6-a5aa-41ac-daff-d106a0144b0d"
      },
      "id": "lY2T1eT3KsgY",
      "execution_count": 254,
      "outputs": [
        {
          "output_type": "execute_result",
          "data": {
            "text/plain": [
              "array([[3, 1, 2, 1, 1, 1, 1, 1, 1, 1, 2, 2],\n",
              "       [1, 1, 1, 1, 1, 1, 1, 1, 1, 1, 1, 2],\n",
              "       [1, 1, 1, 1, 1, 1, 1, 1, 1, 1, 1, 2],\n",
              "       [0, 0, 0, 0, 0, 0, 0, 0, 0, 0, 0, 0]])"
            ]
          },
          "metadata": {},
          "execution_count": 254
        }
      ]
    },
    {
      "cell_type": "markdown",
      "id": "767a4d4a-e3aa-4a24-9e5d-a240fc62cb17",
      "metadata": {
        "id": "767a4d4a-e3aa-4a24-9e5d-a240fc62cb17"
      },
      "source": [
        "**Note to grader for partial credit:**  \n",
        "Student answers in parts 3-5 should help understand if the algorithm is implemented correctly.  \n"
      ]
    },
    {
      "cell_type": "code",
      "source": [
        "#Helpful code to render the policy using arrows for readability\n",
        "ARROWS = np.array([\"↑\",\"→\",\"↓\",\"←\"])\n",
        "def render_policy(policy):\n",
        "    rows=[]\n",
        "    for r in range(N_ROWS):\n",
        "        cells=[]\n",
        "        for c in range(N_COLS):\n",
        "            if (r,c)==START: cells.append(\"S\")\n",
        "            elif (r,c)==GOAL: cells.append(\"G\")\n",
        "            elif (r,c) in CLIFF: cells.append(\"■\")\n",
        "            else: cells.append(ARROWS[policy[r,c]])\n",
        "        rows.append(\" \".join(cells))\n",
        "    return \"\\n\".join(rows)"
      ],
      "metadata": {
        "id": "Xk3pYdV45Zte"
      },
      "id": "Xk3pYdV45Zte",
      "execution_count": 276,
      "outputs": []
    },
    {
      "cell_type": "code",
      "source": [
        "print(render_policy(policy))"
      ],
      "metadata": {
        "colab": {
          "base_uri": "https://localhost:8080/"
        },
        "id": "iG4VpnatMQ1F",
        "outputId": "b9ab18e5-300e-46ce-fef7-9d8a344223ff"
      },
      "id": "iG4VpnatMQ1F",
      "execution_count": 277,
      "outputs": [
        {
          "output_type": "stream",
          "name": "stdout",
          "text": [
            "← → ↓ → → → → → → → ↓ ↓\n",
            "→ → → → → → → → → → → ↓\n",
            "→ → → → → → → → → → → ↓\n",
            "S ■ ■ ■ ■ ■ ■ ■ ■ ■ ■ G\n"
          ]
        }
      ]
    },
    {
      "cell_type": "markdown",
      "id": "51e96184-aaed-4ae4-a60b-805c5b9cd3b9",
      "metadata": {
        "id": "51e96184-aaed-4ae4-a60b-805c5b9cd3b9"
      },
      "source": [
        "#### 3) After training the policy, print the row from the Q-table representing the starting state  "
      ]
    },
    {
      "cell_type": "code",
      "execution_count": 278,
      "id": "af571316-3ec4-437b-ab46-174323417c6b",
      "metadata": {
        "id": "af571316-3ec4-437b-ab46-174323417c6b",
        "colab": {
          "base_uri": "https://localhost:8080/"
        },
        "outputId": "840d345b-c4ee-49e4-e574-17068c468a38"
      },
      "outputs": [
        {
          "output_type": "stream",
          "name": "stdout",
          "text": [
            "        UP:  -13.000\n",
            "     RIGHT: -100.000\n",
            "      DOWN:  -14.000\n",
            "      LEFT:  -14.000\n"
          ]
        }
      ],
      "source": [
        "# After training\n",
        "for a, val in zip(ACTION_NAMES, Q[START_INDEX]):\n",
        "    print(f\"{str(a):>10}: {val:8.3f}\")"
      ]
    },
    {
      "cell_type": "markdown",
      "id": "393287b5-68ac-4d41-989c-aceab3258b64",
      "metadata": {
        "id": "393287b5-68ac-4d41-989c-aceab3258b64"
      },
      "source": [
        "#### 4) Based on training results, create a plot that shows final state of each episode on the y-axis, and the episode number on the x-axis"
      ]
    },
    {
      "cell_type": "code",
      "source": [
        "import matplotlib.pyplot as plt\n",
        "\n",
        "plt.figure(figsize=(10, 6))\n",
        "plt.plot(ep_final_states, marker='.', linestyle='None', alpha=0.6)\n",
        "plt.xlabel(\"Episode\")\n",
        "plt.ylabel(\"Final State index\")\n",
        "plt.title(\"Final State per Episode for Q-learning\")\n",
        "plt.grid(True)\n",
        "plt.show()\n"
      ],
      "metadata": {
        "colab": {
          "base_uri": "https://localhost:8080/",
          "height": 564
        },
        "id": "VGEVGC-NRFD7",
        "outputId": "da680d79-b2c1-43fa-a494-cb338a8ac61e"
      },
      "id": "VGEVGC-NRFD7",
      "execution_count": 279,
      "outputs": [
        {
          "output_type": "display_data",
          "data": {
            "text/plain": [
              "<Figure size 1000x600 with 1 Axes>"
            ],
            "image/png": "[encoded data removed]"
          },
          "metadata": {}
        }
      ]
    },
    {
      "cell_type": "markdown",
      "id": "b2f5f2af-00cc-4010-8481-54b399d794c7",
      "metadata": {
        "tags": [],
        "id": "b2f5f2af-00cc-4010-8481-54b399d794c7"
      },
      "source": [
        "#### 5) Given the learned policy, run one episode\n",
        "\n",
        "Show evidence that the agent has learned how to successfully complete the Cliff walk"
      ]
    },
    {
      "cell_type": "code",
      "execution_count": 280,
      "id": "2790570e-aa87-40b2-9834-6b1809d22896",
      "metadata": {
        "id": "2790570e-aa87-40b2-9834-6b1809d22896"
      },
      "outputs": [],
      "source": [
        "def run_one_episode(policy):\n",
        "    state_index = START_INDEX\n",
        "    done = False\n",
        "    total_reward = 0\n",
        "    path = [i2s(state_index)]\n",
        "    steps = 0\n",
        "\n",
        "    while not done:\n",
        "        r,c = i2s(state_index)\n",
        "        action = policy[r,c]\n",
        "        next_state_index, reward, done = step(state_index, action)\n",
        "        path.append(i2s(next_state_index))\n",
        "        state_index = next_state_index\n",
        "        total_reward += reward\n",
        "        steps += 1\n",
        "\n",
        "    return path, total_reward, steps"
      ]
    },
    {
      "cell_type": "code",
      "source": [
        "path, G, steps = run_one_episode(policy)\n",
        "print(f\"Total Reward: {G}\")\n",
        "print(f\"Steps: {steps}\")\n",
        "print(f\"Path: {path}\")"
      ],
      "metadata": {
        "colab": {
          "base_uri": "https://localhost:8080/"
        },
        "id": "keEbevEgMZ5j",
        "outputId": "0e775b05-88c0-4468-c669-457b140f09a6"
      },
      "id": "keEbevEgMZ5j",
      "execution_count": 288,
      "outputs": [
        {
          "output_type": "stream",
          "name": "stdout",
          "text": [
            "Total Reward: -13.0\n",
            "Steps: 13\n",
            "Path: [(3, 0), (2, 0), (2, 1), (2, 2), (2, 3), (2, 4), (2, 5), (2, 6), (2, 7), (2, 8), (2, 9), (2, 10), (2, 11), (3, 11)]\n"
          ]
        }
      ]
    },
    {
      "cell_type": "code",
      "source": [
        "print(render_policy(policy))"
      ],
      "metadata": {
        "colab": {
          "base_uri": "https://localhost:8080/"
        },
        "id": "AXb112kgqEf2",
        "outputId": "6cf432bf-3f48-446d-ac9b-376c8623e2ff"
      },
      "id": "AXb112kgqEf2",
      "execution_count": 283,
      "outputs": [
        {
          "output_type": "stream",
          "name": "stdout",
          "text": [
            "← → ↓ → → → → → → → ↓ ↓\n",
            "→ → → → → → → → → → → ↓\n",
            "→ → → → → → → → → → → ↓\n",
            "S ■ ■ ■ ■ ■ ■ ■ ■ ■ ■ G\n"
          ]
        }
      ]
    },
    {
      "cell_type": "markdown",
      "id": "c67d9ccd-f5f5-4fa4-89b7-160515f13963",
      "metadata": {
        "id": "c67d9ccd-f5f5-4fa4-89b7-160515f13963"
      },
      "source": [
        "#### 6) Explain your results. Do they make sense?\n",
        "**(POINTS: 2)**"
      ]
    },
    {
      "cell_type": "markdown",
      "id": "ee75f999-5002-4055-88d4-3d2eb67bad50",
      "metadata": {
        "id": "ee75f999-5002-4055-88d4-3d2eb67bad50"
      },
      "source": [
        "**Note to grader for partial credit:** Grade based on the reasoning."
      ]
    },
    {
      "cell_type": "markdown",
      "id": "975fe720-5c2a-4b8f-b5de-ca4a9f161feb",
      "metadata": {
        "id": "975fe720-5c2a-4b8f-b5de-ca4a9f161feb"
      },
      "source": [
        "Yes, my results make sense. The total reward I calculated of -13 reflects the 13 steps the agent makes to reach the goal state moving along the cliff.  The path shows evidence of the agent moving along row 2 from column 0 to column 11 and then down. This can be seen in the rendering of the policy shown above.\n",
        "\n",
        "After training, the Q values are logical at the starting state. Moving up is the optimal path and takes -13 rewards. If the agent moves right, it receives -100 penalty. If the agent moves left or down, it would go off the grid so it stays in place and incurs a -1 penalty, but would still need to take 13 steps to reach the goal from the starting state, so value of -14.\n",
        "\n",
        "The scatter plot was a bit strange, but I believe it is accurate. What I see happening is that because of e-greedy, the agent is still i exploring in later episodes after reaching the goal state in early episodes. This causes the agent to enter the cliff even during later episodes.\n",
        "\n",
        "I believe that after 8000 episodes, the algorithm has converged. When running the one_episode function multiple times, it produces the same results consistently."
      ]
    }
  ],
  "metadata": {
    "kernelspec": {
      "display_name": "Python 3 (ipykernel)",
      "language": "python",
      "name": "python3"
    },
    "language_info": {
      "codemirror_mode": {
        "name": "ipython",
        "version": 3
      },
      "file_extension": ".py",
      "mimetype": "text/x-python",
      "name": "python",
      "nbconvert_exporter": "python",
      "pygments_lexer": "ipython3",
      "version": "3.12.9"
    },
    "colab": {
      "provenance": []
    }
  },
  "nbformat": 4,
  "nbformat_minor": 5
}