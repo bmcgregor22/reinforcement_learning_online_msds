{
  "cells": [
    {
      "cell_type": "markdown",
      "metadata": {
        "id": "-GBod1nv65dN"
      },
      "source": [
        "## Lab: Cart Pole using OpenAI gym\n",
        "## RL Basics and Simple Policy\n",
        "\n",
        "### University of Virginia\n",
        "### Reinforcement Learning\n",
        "#### Last updated: May 26, 2025\n",
        "\n",
        "---\n"
      ]
    },
    {
      "cell_type": "markdown",
      "metadata": {
        "id": "sSQ7PneAB_XJ"
      },
      "source": [
        "#### Instructions:  \n",
        "\n",
        "Carefully read the notes below and run the provided code. Answer each question clearly and show all results.\n",
        "\n",
        "#### TOTAL POINTS: 10\n",
        "\n",
        "---"
      ]
    },
    {
      "cell_type": "markdown",
      "metadata": {
        "id": "krpOsEbE_aTj"
      },
      "source": [
        "### Agent and Environment\n",
        "\n",
        "It is essential for the agent to have a way to get the next state and reward from the environment.\n",
        "\n",
        "Sometimes it is possible for the agent to interact with environment in real life, but often this is expensive / dangerous / impossible.\n",
        "\n",
        "We use models and simulators in this latter case.\n",
        "\n",
        "For this reason, the Gym package is useful in RL\n",
        "\n",
        "**Note**: Going forward, the fork [gymnasium](https://gymnasium.farama.org/) will maintain OpenAI gym.  \n",
        "We will be using `gymnasium` but will still refer to the environment as `gym` when it doesn't cause confusion.\n",
        "\n",
        "---"
      ]
    },
    {
      "cell_type": "markdown",
      "metadata": {
        "id": "fVwAKKjUBxFT"
      },
      "source": [
        "### Introduction to Gym\n",
        "\n",
        "Gym is a toolkit for developing and comparing RL algorithms.\n",
        "\n",
        "It comes with many pre-built environments which have functionality to emulate physical environments.\n",
        "\n",
        "Users can build their own custom environments. See [here](https://towardsdatascience.com/creating-a-custom-openai-gym-environment-for-stock-trading-be532be3910e#:~:text=8%20min%20read-,Create%20custom%20gym%20environments%20from%20scratch%20%E2%80%94%20A%20stock%20market%20example,Atari%20games%20to%20experiment%20with.) for example.\n",
        "\n",
        "---"
      ]
    },
    {
      "cell_type": "markdown",
      "metadata": {
        "id": "jUTU3338AvT9"
      },
      "source": [
        "### Cart Pole Problem\n",
        "\n",
        "The **CartPole** problem has a small state space and action space, so it's popular for illustrating ideas.\n",
        "\n",
        "Pole is attached to a cart on a frictionless track.\n",
        "\n",
        "Pole starts upright\n",
        "\n",
        "**Goal** is to keep pole from falling over\n",
        "\n",
        "Control system by applying **force** -1 or +1 to cart.\n",
        "\n",
        "**Reward** of +1 for each timestep the pole remains upright\n",
        "\n",
        "**Episode** ends when pole is more than 12 degrees from vertical, or cart moves more than 2.4 units from center\n",
        "\n",
        "CartPole-v1 defines *solving* as getting average reward of 195.0 over 100 consecutive trials."
      ]
    },
    {
      "cell_type": "markdown",
      "metadata": {
        "id": "OyoCL_8lB_XK"
      },
      "source": [
        "<img src=\"https://github.com/bmcgregor22/reinforcement_learning_online_msds/blob/main/01_rl_fundamentals/cartpole.png?raw=1\" alt=\"drawing\" width=\"150\"/>"
      ]
    },
    {
      "cell_type": "markdown",
      "metadata": {
        "id": "BGiRrboBB_XK"
      },
      "source": [
        "---"
      ]
    },
    {
      "cell_type": "markdown",
      "metadata": {
        "id": "rA_dd0h6Eoap"
      },
      "source": [
        "### Setup and First Steps"
      ]
    },
    {
      "cell_type": "markdown",
      "metadata": {
        "id": "OgSNDjuzow2U"
      },
      "source": [
        "This notebook can be easily run on [Google Colab](https://colab.research.google.com/)"
      ]
    },
    {
      "cell_type": "code",
      "execution_count": 125,
      "metadata": {
        "colab": {
          "base_uri": "https://localhost:8080/"
        },
        "id": "ee6amSyRCEXI",
        "outputId": "14013546-b786-47a2-900c-4c6a62e29e81"
      },
      "outputs": [
        {
          "output_type": "stream",
          "name": "stdout",
          "text": [
            "Requirement already satisfied: gymnasium in /usr/local/lib/python3.12/dist-packages (1.2.0)\n",
            "Requirement already satisfied: numpy>=1.21.0 in /usr/local/lib/python3.12/dist-packages (from gymnasium) (2.0.2)\n",
            "Requirement already satisfied: cloudpickle>=1.2.0 in /usr/local/lib/python3.12/dist-packages (from gymnasium) (3.1.1)\n",
            "Requirement already satisfied: typing-extensions>=4.3.0 in /usr/local/lib/python3.12/dist-packages (from gymnasium) (4.15.0)\n",
            "Requirement already satisfied: farama-notifications>=0.0.1 in /usr/local/lib/python3.12/dist-packages (from gymnasium) (0.0.4)\n"
          ]
        }
      ],
      "source": [
        "! pip install gymnasium"
      ]
    },
    {
      "cell_type": "markdown",
      "metadata": {
        "id": "urwN9CGQkNVd"
      },
      "source": [
        "We can use [renderlab](https://github.com/ryanrudes/renderlab/tree/main) to visualize *results*"
      ]
    },
    {
      "cell_type": "code",
      "execution_count": 126,
      "metadata": {
        "colab": {
          "base_uri": "https://localhost:8080/"
        },
        "id": "1heW7w14hYfP",
        "outputId": "990f8831-c963-4e6d-fbf3-dc10055b05d1"
      },
      "outputs": [
        {
          "output_type": "stream",
          "name": "stdout",
          "text": [
            "Requirement already satisfied: renderlab in /usr/local/lib/python3.12/dist-packages (0.1.20230421184216)\n",
            "Requirement already satisfied: moviepy in /usr/local/lib/python3.12/dist-packages (from renderlab) (1.0.3)\n",
            "Requirement already satisfied: gymnasium in /usr/local/lib/python3.12/dist-packages (from renderlab) (1.2.0)\n",
            "Requirement already satisfied: numpy>=1.21.0 in /usr/local/lib/python3.12/dist-packages (from gymnasium->renderlab) (2.0.2)\n",
            "Requirement already satisfied: cloudpickle>=1.2.0 in /usr/local/lib/python3.12/dist-packages (from gymnasium->renderlab) (3.1.1)\n",
            "Requirement already satisfied: typing-extensions>=4.3.0 in /usr/local/lib/python3.12/dist-packages (from gymnasium->renderlab) (4.15.0)\n",
            "Requirement already satisfied: farama-notifications>=0.0.1 in /usr/local/lib/python3.12/dist-packages (from gymnasium->renderlab) (0.0.4)\n",
            "Requirement already satisfied: decorator<5.0,>=4.0.2 in /usr/local/lib/python3.12/dist-packages (from moviepy->renderlab) (4.4.2)\n",
            "Requirement already satisfied: tqdm<5.0,>=4.11.2 in /usr/local/lib/python3.12/dist-packages (from moviepy->renderlab) (4.67.1)\n",
            "Requirement already satisfied: requests<3.0,>=2.8.1 in /usr/local/lib/python3.12/dist-packages (from moviepy->renderlab) (2.32.4)\n",
            "Requirement already satisfied: proglog<=1.0.0 in /usr/local/lib/python3.12/dist-packages (from moviepy->renderlab) (0.1.12)\n",
            "Requirement already satisfied: imageio<3.0,>=2.5 in /usr/local/lib/python3.12/dist-packages (from moviepy->renderlab) (2.37.0)\n",
            "Requirement already satisfied: imageio-ffmpeg>=0.2.0 in /usr/local/lib/python3.12/dist-packages (from moviepy->renderlab) (0.6.0)\n",
            "Requirement already satisfied: pillow>=8.3.2 in /usr/local/lib/python3.12/dist-packages (from imageio<3.0,>=2.5->moviepy->renderlab) (11.3.0)\n",
            "Requirement already satisfied: charset_normalizer<4,>=2 in /usr/local/lib/python3.12/dist-packages (from requests<3.0,>=2.8.1->moviepy->renderlab) (3.4.3)\n",
            "Requirement already satisfied: idna<4,>=2.5 in /usr/local/lib/python3.12/dist-packages (from requests<3.0,>=2.8.1->moviepy->renderlab) (3.10)\n",
            "Requirement already satisfied: urllib3<3,>=1.21.1 in /usr/local/lib/python3.12/dist-packages (from requests<3.0,>=2.8.1->moviepy->renderlab) (2.5.0)\n",
            "Requirement already satisfied: certifi>=2017.4.17 in /usr/local/lib/python3.12/dist-packages (from requests<3.0,>=2.8.1->moviepy->renderlab) (2025.8.3)\n"
          ]
        }
      ],
      "source": [
        "! pip install renderlab"
      ]
    },
    {
      "cell_type": "code",
      "execution_count": 127,
      "metadata": {
        "id": "ed_DyvHy6pbh"
      },
      "outputs": [],
      "source": [
        "import gymnasium as gym\n",
        "import renderlab as rl"
      ]
    },
    {
      "cell_type": "markdown",
      "metadata": {
        "id": "KA4JgtuL5jC9"
      },
      "source": [
        "Load the environment"
      ]
    },
    {
      "cell_type": "code",
      "execution_count": 128,
      "metadata": {
        "colab": {
          "base_uri": "https://localhost:8080/"
        },
        "id": "UcGLRi6F6vcQ",
        "outputId": "99c5dcdb-4958-450b-c337-dabe921f31c1"
      },
      "outputs": [
        {
          "output_type": "stream",
          "name": "stdout",
          "text": [
            "(array([0.04225422, 0.02126478, 0.02520455, 0.00700802], dtype=float32), {})\n"
          ]
        }
      ],
      "source": [
        "env = gym.make(\"CartPole-v1\", render_mode = \"rgb_array\")\n",
        "\n",
        "state = env.reset(seed=314)\n",
        "print(state)"
      ]
    },
    {
      "cell_type": "markdown",
      "metadata": {
        "id": "VtQFJsxj7aBj"
      },
      "source": [
        "Given the state, we take an action. The next state comes from the environment, which is encoded in `gym`.\n",
        "\n",
        "The first element holds components:   \n",
        "[0]: cart horizontal position (0.0 = center)  \n",
        "[1]: velocity (positive means right)  \n",
        "[2]: angle of the pole (0.0 = vertical)  \n",
        "[3]: pole's angular velocity (positive means clockwise)"
      ]
    },
    {
      "cell_type": "code",
      "execution_count": 129,
      "metadata": {
        "colab": {
          "base_uri": "https://localhost:8080/"
        },
        "id": "7A5peNKiBXsh",
        "outputId": "63a84cb6-10ac-42ba-a342-a164a03b0b8b"
      },
      "outputs": [
        {
          "output_type": "execute_result",
          "data": {
            "text/plain": [
              "4"
            ]
          },
          "metadata": {},
          "execution_count": 129
        }
      ],
      "source": [
        "# state space number of components\n",
        "env.observation_space.shape[0]"
      ]
    },
    {
      "cell_type": "markdown",
      "metadata": {
        "id": "8GkZmsIN7ky6"
      },
      "source": [
        "The action space consists of two options:\n",
        "\n",
        "[0]: move cart left   \n",
        "[1]: move cart right"
      ]
    },
    {
      "cell_type": "code",
      "execution_count": 7,
      "metadata": {
        "colab": {
          "base_uri": "https://localhost:8080/"
        },
        "id": "ySQ8EpsV7Ngr",
        "outputId": "d9988809-1e99-4044-8fd4-9c66690eda13"
      },
      "outputs": [
        {
          "output_type": "execute_result",
          "data": {
            "text/plain": [
              "Discrete(2)"
            ]
          },
          "metadata": {},
          "execution_count": 7
        }
      ],
      "source": [
        "env.action_space"
      ]
    },
    {
      "cell_type": "markdown",
      "metadata": {
        "id": "_68lpUuVCc-_"
      },
      "source": [
        "Let's take an action, draw a sample and look at the results."
      ]
    },
    {
      "cell_type": "code",
      "execution_count": 130,
      "metadata": {
        "colab": {
          "base_uri": "https://localhost:8080/"
        },
        "id": "gKFEIHjL7n7h",
        "outputId": "0debe507-034a-49ce-8764-4b815ddf0c7d"
      },
      "outputs": [
        {
          "output_type": "stream",
          "name": "stdout",
          "text": [
            "state [ 0.04267951  0.21601637  0.02534471 -0.27761722]\n",
            "reward 1.0\n",
            "done False\n",
            "info {}\n"
          ]
        }
      ],
      "source": [
        "# move right\n",
        "action = 1\n",
        "\n",
        "# take a step and get next state, reward from environment\n",
        "state, reward, terminated, truncated, info = env.step(action)\n",
        "done = terminated or truncated\n",
        "\n",
        "print('state', state)\n",
        "print('reward', reward)\n",
        "print('done', done)\n",
        "print('info', info)"
      ]
    },
    {
      "cell_type": "markdown",
      "metadata": {
        "id": "QdXm61SyB_XO"
      },
      "source": [
        "**Note about DONE**  \n",
        "We need to understand if the episode is done after taking action  \n",
        "\n",
        "The API now gives more detail on this variable, which may reach `done` state for two reasons:  \n",
        "- **terminated**=True if environment terminates (eg. due to task completion, failure etc.)  \n",
        "- **truncated**=True if episode truncates due to a time limit or a reason that is not defined as part of the task MDP."
      ]
    },
    {
      "cell_type": "markdown",
      "metadata": {
        "id": "CdXO_KsfB_XO"
      },
      "source": [
        "**Run several steps by taking random actions**  "
      ]
    },
    {
      "cell_type": "code",
      "execution_count": 131,
      "metadata": {
        "colab": {
          "base_uri": "https://localhost:8080/"
        },
        "id": "IG-HlLwDB_XO",
        "outputId": "1ee01a97-8281-4239-ca51-390f9ec9b643"
      },
      "outputs": [
        {
          "output_type": "stream",
          "name": "stdout",
          "text": [
            "(array([ 0.04267951, -0.1742094 ,  0.02534471,  0.30753553], dtype=float32), 1.0, False, False, {})\n",
            "(array([ 0.03919533, -0.36968315,  0.03149542,  0.6081025 ], dtype=float32), 1.0, False, False, {})\n",
            "(array([ 0.03180166, -0.56523097,  0.04365747,  0.9105369 ], dtype=float32), 1.0, False, False, {})\n",
            "(array([ 0.02049704, -0.3707261 ,  0.06186821,  0.63188887], dtype=float32), 1.0, False, False, {})\n",
            "(array([ 0.01308252, -0.17651942,  0.07450598,  0.3593138 ], dtype=float32), 1.0, False, False, {})\n"
          ]
        }
      ],
      "source": [
        "state = env.reset(seed=314)\n",
        "for _ in range(5):\n",
        "    print(env.step(env.action_space.sample())) # take a random action"
      ]
    },
    {
      "cell_type": "markdown",
      "metadata": {
        "id": "BPJ5pHxPjFNl"
      },
      "source": [
        "**Run an epoch by taking random actions. Visualize the results.**  "
      ]
    },
    {
      "cell_type": "code",
      "execution_count": 132,
      "metadata": {
        "colab": {
          "base_uri": "https://localhost:8080/",
          "height": 580
        },
        "id": "6DTMm3offzGh",
        "outputId": "0cbd7240-783f-4921-91c1-d01a67e9fd3b"
      },
      "outputs": [
        {
          "output_type": "stream",
          "name": "stdout",
          "text": [
            "Moviepy - Building video temp-{start}.mp4.\n",
            "Moviepy - Writing video temp-{start}.mp4\n",
            "\n"
          ]
        },
        {
          "output_type": "stream",
          "name": "stderr",
          "text": [
            "\rt:   0%|          | 0/18 [00:00<?, ?it/s, now=None]WARNING:py.warnings:/usr/local/lib/python3.12/dist-packages/moviepy/video/io/ffmpeg_reader.py:123: UserWarning: Warning: in file ./output/1757115104.4281669.mp4, 720000 bytes wanted but 0 bytes read,at frame 17/18, at time 0.57/0.57 sec. Using the last valid frame instead.\n",
            "  warnings.warn(\"Warning: in file %s, \"%(self.filename)+\n",
            "\n",
            "                                                   "
          ]
        },
        {
          "output_type": "stream",
          "name": "stdout",
          "text": [
            "Moviepy - Done !\n",
            "Moviepy - video ready temp-{start}.mp4\n"
          ]
        },
        {
          "output_type": "stream",
          "name": "stderr",
          "text": [
            "\r"
          ]
        },
        {
          "output_type": "display_data",
          "data": {
            "text/plain": [
              "<IPython.core.display.Video object>"
            ],
            "text/html": [
              "<video controls  >\n",
              " <source src=\"data:video/mp4;base64,AAAAIGZ0eXBpc29tAAACAGlzb21pc28yYXZjMW1wNDEAAAAIZnJlZQAACrltZGF0AAACrgYF//+q3EXpvebZSLeWLNgg2SPu73gyNjQgLSBjb3JlIDE2NCByMzE5MSA0NjEzYWMzIC0gSC4yNjQvTVBFRy00IEFWQyBjb2RlYyAtIENvcHlsZWZ0IDIwMDMtMjAyNCAtIGh0dHA6Ly93d3cudmlkZW9sYW4ub3JnL3gyNjQuaHRtbCAtIG9wdGlvbnM6IGNhYmFjPTEgcmVmPTMgZGVibG9jaz0xOjA6MCBhbmFseXNlPTB4MzoweDExMyBtZT1oZXggc3VibWU9NyBwc3k9MSBwc3lfcmQ9MS4wMDowLjAwIG1peGVkX3JlZj0xIG1lX3JhbmdlPTE2IGNocm9tYV9tZT0xIHRyZWxsaXM9MSA4eDhkY3Q9MSBjcW09MCBkZWFkem9uZT0yMSwxMSBmYXN0X3Bza2lwPTEgY2hyb21hX3FwX29mZnNldD0tMiB0aHJlYWRzPTMgbG9va2FoZWFkX3RocmVhZHM9MSBzbGljZWRfdGhyZWFkcz0wIG5yPTAgZGVjaW1hdGU9MSBpbnRlcmxhY2VkPTAgYmx1cmF5X2NvbXBhdD0wIGNvbnN0cmFpbmVkX2ludHJhPTAgYmZyYW1lcz0zIGJfcHlyYW1pZD0yIGJfYWRhcHQ9MSBiX2JpYXM9MCBkaXJlY3Q9MSB3ZWlnaHRiPTEgb3Blbl9nb3A9MCB3ZWlnaHRwPTIga2V5aW50PTI1MCBrZXlpbnRfbWluPTI1IHNjZW5lY3V0PTQwIGludHJhX3JlZnJlc2g9MCByY19sb29rYWhlYWQ9NDAgcmM9Y3JmIG1idHJlZT0xIGNyZj0yMy4wIHFjb21wPTAuNjAgcXBtaW49MCBxcG1heD02OSBxcHN0ZXA9NCBpcF9yYXRpbz0xLjQwIGFxPTE6MS4wMACAAAAB9mWIhAAr//7Y5/Msq1xA0DVUuHVl7uFSgaMoZ2nkvUzAAAADAAADAABo/Ot9/srZ0dc2TAAAAwIUAF6DPCjCvjqEhH2OkMnAzV3ACa++FsCsVCm88Vn01j3+CIZATd37y+uwG0yqkET7qsbu23TWoWYAAsB+6ZIfrLhi1Hjf/BCPLvUDvdEaOy9dTSbjQrdy5kas3QLgwOjG5ZOgQWwnkx6hYvAug1oN1w33gc7hnA0nGo2IpLpahhcNPCJMmugvTBeJHaxUHQS0uJ6CL1Gi8r6Je8PeTeG4CiRm55s1nELgfk5BNM7YS0oW5oEXJnSxBFdojp2PJY6oUNisxpeYftVaOTbDR0G5/mKtzMcDneT/mVxdGp8hIF/snXzzZveaen0un5KZb2K2LJUQ2nukC04WmhEm6/ys8RjfItz+SJDEhj9JKgvXU324zdS0pqf/Z9HHRsoyAB0Ieo75Y0XgpmF5iBbh3I05GVlfzRBYjteLHplJmyLgtghsLp2zWZkMadAQcH3MffLB5WA+zTVpAlTRMqjma9R4BoC7jaPmTZHH2Lq/E0Wa5D6EItgQABmmzkvVEFdpZHM8wY2ve1Lu5OUvzfIIrgqdZtd94k2kTgwgkR7e3EUjMB7/UjTcvRLJqejltMBXwJOBaTcG+fAAAAMAAAMAICEAAACUQZokbEK//jhAAAENGlZ8ElykAuL1wrToA+kk/WReA3HRUoEU33JlctrQC74+NUq+Ar6OQWVDfDKxK5Qo3WYZ6FymkZlovPS44mqEFrxdWIfYEza8Evh02XxJgLWJbPLknWDHHCTAduO/7uxj3bWRizl3KJuIq9xA5T32tcCMZ2RJVs3KeCzuYpr8DI9r2/lqANBzgAAAAB5BnkJ4j/8AACPDF2ipr9o8LhCSas1CJLsGkG4nqlUAAAAOAZ5hdEb/AAADAAADAg4AAAAeAZ5jakb/AAAteMUnv03X2cS5c6VrQeckC8M9MqqNAAAAvUGaaEmoQWiZTAhX//44QAABDPrClWADFI5JzI5nXKVxYI1BNc7sSCABhpm+ifFyKhBBc8IWkTZA/sLv/x5+azFJoN6XgveePFlxUDD3XHHku9MbNcwqNYJCLGElWc1QICEQ3VTaygyVCTzk2sLEiIYU8/x2GJ/s7B9YYsRdOX/ImK7geU7MG/TMch4rgnsScwTDEP7sNjjZKYazCPxIuz/ra5d1EaFVg46OA3jHLGOkUEMQJxGlOySDqOaSQQAAAEFBnoZFESx/AAAjvwQnX28v/5T8YLdTyZGaIzyGKTkzOuAYRw4EAcElUrt4jvhItJAR+M1mKgYcMZtejhu3qu9ZQQAAABsBnqV0Rv8AABDT8ru+CgBkZLaaFpCZIqd/tmEAAAA7AZ6nakb/AAAtdnk0cjqedL7M/F2ajqlA97PIyEs2w+oBUTzuw3J7kcgW7l7EjwTuBsPM5WtSlAjvZ6AAAADVQZqrSahBbJlMCE///fEAAAMCnvbeTaZ1GF/ML0IAmwxHjDfq95iA5HVjE7+Vq8y7jzzONcsRMLiBpJ3x2K3P3v4JAQ7siwglfFC1/IWqXD8eSuD7ngwqfXIY77DG5Qqc1OrT/9Nzm+papAIzJWfStn5nzqzpadETGxkxC6Cb6MJp5SP/cPGIL7N2B6aV9C4J/sY78Plwpn9OndVtKE8gkRY1/x3er0h0fiJC7CdWnU5+P/f1tatTEWkl44voHD/UZNog13YqsVY3EBaNryQvc5diAkTAAAAAS0GeyUUVLH8AACOuXjN/haihVhnhx0WrZy8TVfPekBLIiTY1vSa2L2Lt6/KN/F0pMn9OAEOJjiKZ/aQVXjLml5k3N+LQg5/BGuyBgQAAAE8BnupqRv8AAC1lYW7H663tHeinerM5qfIy/8i8eFUKzyMAVgJt1TwRUOejYxyr7g6sbiAGYqAu5zQXwqJqsyh9uCrhRzqlSJaFzxaqQsp8AAAAmUGa7kmoQWyZTAhH//3hAAAEFjgj7DbTSw631QjXwqcODy4AEZNn6SbMn2VyRdqHce4Tg2POyAevOX7qSbJRmtqtQPvXMzUlVOdAg6Y//+ME02x6QuW0sCe/xRfi5NaSJipon+V4yctmWOjeBvFDaaut0vPOANJvQYJKgidWPaxxKDPPD1tCdpgGPvGDa4KGNRUslUmxgeRLZgAAAFpBnwxFFSx/AAAjrW0KaMAtDG9xKpnS1y/3/di4kOhggLOOoNrtfidOTAbCfz6pv1R4d0/L4lK+Mty9bQ67ObgACL6y8WM88xpcP8Pm9jLoOEqxfiCV64Pqz4EAAABDAZ8takb/AAAthFKFbr2nwRLgAKqF0jsd60vajoqgEBJ9gYhxMDIV4G+uW8CTs70lc8Z+7DdnbCbZML27X8gBglfIzQAAAHFBmzFJqEFsmUwI3/pYAAAfO4TkJpQaFummhLpoATvTZo5RqFC9fBjuI4nWFke3oSz2gF6LXOxPqcWinttykjpxlGi6WrIHtrx+fOxqW/6GKrbEauC0tUDfCA87jU6j/ehaNFYY2caUF23Sh9th+SbngQAAAFZBn09FFSx/AAAjQ7pfepOQHJQrJzGYgAIgfEcx//9pTuzxD9NN96zCKqwSwxO3TxxtoHo99msnmc4aJnXdLBTAwTBQ66JmGt4B6Hu6SHFVFamgt6MPgAAAACMBn3BqRv8AAC1mFhCnxNiTC3Jp4V6QLmnjOpoyk1Y56Bwp8AAAA+ptb292AAAAbG12aGQAAAAAAAAAAAAAAAAAAAPoAAACWAABAAABAAAAAAAAAAAAAAAAAQAAAAAAAAAAAAAAAAAAAAEAAAAAAAAAAAAAAAAAAEAAAAAAAAAAAAAAAAAAAAAAAAAAAAAAAAAAAAAAAAACAAADFXRyYWsAAABcdGtoZAAAAAMAAAAAAAAAAAAAAAEAAAAAAAACWAAAAAAAAAAAAAAAAAAAAAAAAQAAAAAAAAAAAAAAAAAAAAEAAAAAAAAAAAAAAAAAAEAAAAACWAAAAZAAAAAAACRlZHRzAAAAHGVsc3QAAAAAAAAAAQAAAlgAAAQAAAEAAAAAAo1tZGlhAAAAIG1kaGQAAAAAAAAAAAAAAAAAADwAAAAkAFXEAAAAAAAtaGRscgAAAAAAAAAAdmlkZQAAAAAAAAAAAAAAAFZpZGVvSGFuZGxlcgAAAAI4bWluZgAAABR2bWhkAAAAAQAAAAAAAAAAAAAAJGRpbmYAAAAcZHJlZgAAAAAAAAABAAAADHVybCAAAAABAAAB+HN0YmwAAACwc3RzZAAAAAAAAAABAAAAoGF2YzEAAAAAAAAAAQAAAAAAAAAAAAAAAAAAAAACWAGQAEgAAABIAAAAAAAAAAEUTGF2YzYxLjMuMTAwIGxpYngyNjQAAAAAAAAAAAAAAAAY//8AAAA2YXZjQwFkAB7/4QAZZ2QAHqzZQJgz5eEAAAMAAQAAAwA8DxYtlgEABmjr48siwP34+AAAAAAUYnRydAAAAAAAAI6NAACOjQAAABhzdHRzAAAAAAAAAAEAAAASAAACAAAAABRzdHNzAAAAAAAAAAEAAAABAAAAiGN0dHMAAAAAAAAADwAAAAEAAAQAAAAAAQAACgAAAAABAAAEAAAAAAEAAAAAAAAAAQAAAgAAAAABAAAKAAAAAAEAAAQAAAAAAQAAAAAAAAABAAACAAAAAAEAAAgAAAAAAgAAAgAAAAABAAAIAAAAAAIAAAIAAAAAAQAACAAAAAACAAACAAAAABxzdHNjAAAAAAAAAAEAAAABAAAAEgAAAAEAAABcc3RzegAAAAAAAAAAAAAAEgAABKwAAACYAAAAIgAAABIAAAAiAAAAwQAAAEUAAAAfAAAAPwAAANkAAABPAAAAUwAAAJ0AAABeAAAARwAAAHUAAABaAAAAJwAAABRzdGNvAAAAAAAAAAEAAAAwAAAAYXVkdGEAAABZbWV0YQAAAAAAAAAhaGRscgAAAAAAAAAAbWRpcmFwcGwAAAAAAAAAAAAAAAAsaWxzdAAAACSpdG9vAAAAHGRhdGEAAAABAAAAAExhdmY2MS4xLjEwMA==\" type=\"video/mp4\">\n",
              " Your browser does not support the video tag.\n",
              " </video>"
            ]
          },
          "metadata": {}
        }
      ],
      "source": [
        "env = rl.RenderFrame(env, \"./output\")\n",
        "\n",
        "observation, info = env.reset()\n",
        "\n",
        "while True:\n",
        "    action = env.action_space.sample()\n",
        "    observation, reward, terminated, truncated, info = env.step(action)\n",
        "\n",
        "    if terminated or truncated:\n",
        "      break\n",
        "\n",
        "env.play()"
      ]
    },
    {
      "cell_type": "markdown",
      "metadata": {
        "id": "bqxI0vej88Kh"
      },
      "source": [
        "**Reward and Episode**  \n",
        "\n",
        "For each time step that the cart keeps the pole balanced, it earns reward 1.\n",
        "\n",
        "If the pole tilts too much or if the cart moves off screen, `reward=0` and `done=True` (the episode will end).\n",
        "\n",
        "When the episode ends, a new episode may begin. The process learns cumulatively from each episode.\n",
        "\n",
        "---"
      ]
    },
    {
      "cell_type": "markdown",
      "metadata": {
        "id": "Yv5gKVde9pvQ"
      },
      "source": [
        "#### 1) Defining a function that runs a simple policy\n",
        "**(POINTS: 1)**\n",
        "\n",
        "When the pole leans left (negative angle), move left. When the pole leans right (positive angle), move right.  \n",
        "\n",
        "The function should take the state and return an action. Test that it works properly.  "
      ]
    },
    {
      "cell_type": "code",
      "source": [
        "# simple policy: move left if pole leans left, move right if pole leans right\n",
        "def simple_policy(state):\n",
        "    if state[2] < 0:   # theta is negative (leans left)\n",
        "        return 0       # move left\n",
        "    else:              # theta is positive (leans right)\n",
        "        return 1       # move right"
      ],
      "metadata": {
        "id": "q9qRGe8trOG4"
      },
      "execution_count": 133,
      "outputs": []
    },
    {
      "cell_type": "code",
      "source": [],
      "metadata": {
        "id": "6WxuaWiHrUdb"
      },
      "execution_count": null,
      "outputs": []
    },
    {
      "cell_type": "code",
      "source": [
        "# env.reset() returns a tuple (observation, info)\n",
        "observation, info = env.reset()\n",
        "action = simple_policy((observation))\n",
        "print(action)"
      ],
      "metadata": {
        "colab": {
          "base_uri": "https://localhost:8080/"
        },
        "id": "iJteOXJBj2Cn",
        "outputId": "e854470d-24a3-41e7-b865-2e39dc61d89c"
      },
      "execution_count": 134,
      "outputs": [
        {
          "output_type": "stream",
          "name": "stdout",
          "text": [
            "1\n"
          ]
        }
      ]
    },
    {
      "cell_type": "markdown",
      "source": [],
      "metadata": {
        "id": "B6ybVH9JjGPh"
      }
    },
    {
      "cell_type": "markdown",
      "metadata": {
        "id": "wIq0UJphB_XP"
      },
      "source": [
        "#### 2) Simulating episodes with the simple policy  \n",
        "\n",
        "2a) **(POINTS: 2)** Run 1000 episodes each with 100 time steps. Use the `simple_policy` for taking actions.  \n",
        "Each time step will call the `step()` method to get the next state and reward. Produce a boxplot of the rewards from each episode."
      ]
    },
    {
      "cell_type": "code",
      "source": [
        "episode_rewards = []\n",
        "\n",
        "# Run 1000 episodes, each with up to 100 steps\n",
        "for episode in range(1000):\n",
        "    obs, info = env.reset()\n",
        "    total_reward = 0\n",
        "    for t in range(100):\n",
        "        action = simple_policy(obs)\n",
        "        obs, reward, terminated, truncated, info = env.step(action)\n",
        "        total_reward += reward\n",
        "        if terminated or truncated:   # stop early if episode ends\n",
        "            break\n",
        "    episode_rewards.append(total_reward)\n",
        "\n",
        "env.close()\n"
      ],
      "metadata": {
        "id": "o0aUZoVAsj8X"
      },
      "execution_count": 137,
      "outputs": []
    },
    {
      "cell_type": "code",
      "source": [
        "import matplotlib.pyplot as plt\n",
        "import numpy as np\n",
        "\n",
        "# make a boxplot of rewards\n",
        "plt.boxplot(episode_rewards)\n",
        "plt.ylabel(\"Episode reward\")\n",
        "plt.title(\"Simple Policy on CartPole\")\n",
        "plt.show()\n"
      ],
      "metadata": {
        "colab": {
          "base_uri": "https://localhost:8080/",
          "height": 452
        },
        "id": "hNVMnbC2o8Zp",
        "outputId": "e4936344-83d4-411f-c305-227b035da3fc"
      },
      "execution_count": 138,
      "outputs": [
        {
          "output_type": "display_data",
          "data": {
            "text/plain": [
              "<Figure size 640x480 with 1 Axes>"
            ],
            "image/png": "[encoded data removed]"
          },
          "metadata": {}
        }
      ]
    },
    {
      "cell_type": "code",
      "source": [],
      "metadata": {
        "id": "YobUBleJzJRX"
      },
      "execution_count": null,
      "outputs": []
    },
    {
      "cell_type": "markdown",
      "metadata": {
        "id": "3vCGs_zlB_XP"
      },
      "source": [
        "2b) **(POINTS: 1)** Is this policy able to solve the cart pole problem? Explain your answer."
      ]
    },
    {
      "cell_type": "markdown",
      "metadata": {
        "id": "UXJhJRMaB_XP"
      },
      "source": [
        "No, this policy was not able to solve the cart pole problem. To solve the problem, it needs to collect 195 rewards over 100 consecutive trials. The box plot shows the mean reward is around 40, and the max reward is under 70.  To solve the problem, we need to incorporate the cart's position and velocity.  The cart was only able to adjust the angle, so it could not make adjustments to the other variables that would result in a successful average reward above 195."
      ]
    },
    {
      "cell_type": "markdown",
      "metadata": {
        "id": "5Iz7bmXTB_XP"
      },
      "source": [
        "#### 3) From Question [2], what is the mean and maximum reward (roughly)?\n",
        "**(POINTS: 1)**"
      ]
    },
    {
      "cell_type": "code",
      "execution_count": 139,
      "metadata": {
        "id": "owuzui2wB_XP",
        "colab": {
          "base_uri": "https://localhost:8080/"
        },
        "outputId": "69bb9e2e-b49f-4215-a69d-434347de29c2"
      },
      "outputs": [
        {
          "output_type": "stream",
          "name": "stdout",
          "text": [
            "Mean reward: 42.049\n",
            "Max reward: 72.0\n"
          ]
        }
      ],
      "source": [
        "\n",
        "print(\"Mean reward:\", np.mean(episode_rewards))\n",
        "print(\"Max reward:\", np.max(episode_rewards))"
      ]
    },
    {
      "cell_type": "markdown",
      "metadata": {
        "id": "gnH4J3988wNe"
      },
      "source": [
        "#### 4) Reversed Simple Policy\n",
        "**(POINTS: 2)**\n",
        "\n",
        "What happens if you reverse the simple policy, moving left when the pole leans right, and moving right when the pole leans left? This is not a good idea, but it's instructive. To show the result, produce the boxplot from before, and calculate the mean reward."
      ]
    },
    {
      "cell_type": "code",
      "execution_count": 140,
      "metadata": {
        "id": "YyoOpgHpB_XQ"
      },
      "outputs": [],
      "source": [
        "# reverse_policy: move left if pole leans right, move right if pole leans left\n",
        "def reverse_policy(state):\n",
        "    if state[2] < 0:   # theta is negative (leans left)\n",
        "        return 1       # move right\n",
        "    else:              # theta is positive (leans right)\n",
        "        return 0       # move left"
      ]
    },
    {
      "cell_type": "code",
      "source": [
        "episode_rewards = []\n",
        "\n",
        "# Run 1000 episodes, each with up to 100 steps\n",
        "for episode in range(1000):\n",
        "    obs, info = env.reset()\n",
        "    total_reward = 0\n",
        "    for t in range(100):\n",
        "        action = reverse_policy(obs)\n",
        "        obs, reward, terminated, truncated, info = env.step(action)\n",
        "        total_reward += reward\n",
        "        if terminated or truncated:   # stop early if episode ends\n",
        "            break\n",
        "    episode_rewards.append(total_reward)\n",
        "\n",
        "env.close()"
      ],
      "metadata": {
        "id": "wOfnlwpnx-Dc"
      },
      "execution_count": 141,
      "outputs": []
    },
    {
      "cell_type": "code",
      "source": [
        "# make a boxplot of rewards\n",
        "plt.boxplot(episode_rewards)\n",
        "plt.ylabel(\"Episode reward\")\n",
        "plt.title(\"Reverse Policy on CartPole\")\n",
        "plt.show()\n",
        "\n",
        "print(\"Mean reward:\", np.mean(episode_rewards))"
      ],
      "metadata": {
        "colab": {
          "base_uri": "https://localhost:8080/",
          "height": 469
        },
        "id": "hYPVgapqy0gT",
        "outputId": "5aa5d215-0151-40a2-82f6-0249049e117e"
      },
      "execution_count": 142,
      "outputs": [
        {
          "output_type": "display_data",
          "data": {
            "text/plain": [
              "<Figure size 640x480 with 1 Axes>"
            ],
            "image/png": "[encoded data removed]"
          },
          "metadata": {}
        },
        {
          "output_type": "stream",
          "name": "stdout",
          "text": [
            "Mean reward: 8.735\n"
          ]
        }
      ]
    },
    {
      "cell_type": "markdown",
      "metadata": {
        "id": "l8DPx4tyB_XQ"
      },
      "source": [
        "#### 5) Modified Policy\n",
        "**(POINTS: 2)** Full points for attempt and clear explanation.\n",
        "\n",
        "Time to get creative! See if you can try a different policy that improves the mean reward. Clearly explain your strategy."
      ]
    },
    {
      "cell_type": "code",
      "source": [],
      "metadata": {
        "id": "DcFK43cfVyg0"
      },
      "execution_count": null,
      "outputs": []
    },
    {
      "cell_type": "markdown",
      "source": [
        "My strategy was to use a weighted approach to both the angle and angle velocity. I gave higher weight to the angle, which I prioritized. I then added in the angular velocity to account for the speed it was tipping over into the score. This would allow the model to adjust earlier before it tipped over. I used a lower weight and played with the weight.  The results gave me a mean reward of 100."
      ],
      "metadata": {
        "id": "Aq6T-dK3Vy3Q"
      }
    },
    {
      "cell_type": "code",
      "execution_count": 147,
      "metadata": {
        "id": "w0oF1fYbB_XQ"
      },
      "outputs": [],
      "source": [
        "\n",
        "def better_policy(state):\n",
        "\n",
        "    x, x_dot, theta, theta_dot = state\n",
        "\n",
        "\n",
        "    score = (1.5 * theta) + (0.5 * theta_dot)\n",
        "    # if score is positive, push cart left (action = 1)\n",
        "    if score > 0:\n",
        "        return 1\n",
        "    else:\n",
        "        # otherwise, push cart right (action = 0)\n",
        "        return 0"
      ]
    },
    {
      "cell_type": "code",
      "source": [
        "episode_rewards = []\n",
        "\n",
        "# Run 1000 episodes, each with up to 100 steps\n",
        "for episode in range(1000):\n",
        "    obs, info = env.reset()\n",
        "    total_reward = 0\n",
        "    for t in range(100):\n",
        "        action = better_policy(obs)\n",
        "        obs, reward, terminated, truncated, info = env.step(action)\n",
        "        total_reward += reward\n",
        "        if terminated or truncated:   # stop early if episode ends\n",
        "            break\n",
        "    episode_rewards.append(total_reward)\n",
        "\n",
        "env.close()"
      ],
      "metadata": {
        "id": "L9gJ-Zsa22sh"
      },
      "execution_count": 148,
      "outputs": []
    },
    {
      "cell_type": "code",
      "source": [
        "# make a boxplot of rewards\n",
        "plt.boxplot(episode_rewards)\n",
        "plt.ylabel(\"Episode reward\")\n",
        "plt.title(\"Better Policy on CartPole\")\n",
        "plt.show()\n",
        "\n",
        "print(\"Mean reward:\", np.mean(episode_rewards))"
      ],
      "metadata": {
        "id": "29fGRa9U3L-H",
        "outputId": "72b69b91-e008-43a2-e098-00690be549da",
        "colab": {
          "base_uri": "https://localhost:8080/",
          "height": 469
        }
      },
      "execution_count": 149,
      "outputs": [
        {
          "output_type": "display_data",
          "data": {
            "text/plain": [
              "<Figure size 640x480 with 1 Axes>"
            ],
            "image/png": "[encoded data removed]"
          },
          "metadata": {}
        },
        {
          "output_type": "stream",
          "name": "stdout",
          "text": [
            "Mean reward: 100.0\n"
          ]
        }
      ]
    },
    {
      "cell_type": "markdown",
      "metadata": {
        "id": "rdTK31yrB_XQ"
      },
      "source": []
    },
    {
      "cell_type": "markdown",
      "metadata": {
        "id": "t_61H87rA_MT"
      },
      "source": [
        "---  \n",
        "\n",
        "### Wrapup\n",
        "\n",
        "This demo illustrated some basic ideas of reinforcement learning and got you started with OpenAI Gym.\n",
        "\n",
        "We will revisit this example later, bringing in more tools for a better solution.\n",
        "\n",
        "---\n"
      ]
    }
  ],
  "metadata": {
    "colab": {
      "provenance": []
    },
    "kernelspec": {
      "display_name": "Python 3 (ipykernel)",
      "language": "python",
      "name": "python3"
    },
    "language_info": {
      "codemirror_mode": {
        "name": "ipython",
        "version": 3
      },
      "file_extension": ".py",
      "mimetype": "text/x-python",
      "name": "python",
      "nbconvert_exporter": "python",
      "pygments_lexer": "ipython3",
      "version": "3.12.9"
    }
  },
  "nbformat": 4,
  "nbformat_minor": 0
}